{
 "cells": [
  {
   "cell_type": "code",
   "execution_count": 2,
   "metadata": {
    "execution": {
     "iopub.execute_input": "2024-12-30T18:50:02.281476Z",
     "iopub.status.busy": "2024-12-30T18:50:02.281146Z",
     "iopub.status.idle": "2024-12-30T18:50:02.287694Z",
     "shell.execute_reply": "2024-12-30T18:50:02.286791Z",
     "shell.execute_reply.started": "2024-12-30T18:50:02.281444Z"
    }
   },
   "outputs": [],
   "source": [
    "import re\n",
    "import string\n",
    "import numpy as np\n",
    "import pandas as pd\n",
    "from tqdm import tqdm\n",
    "import matplotlib.pyplot as plt\n",
    "from sklearn.model_selection import train_test_split\n",
    "\n",
    "import tensorflow as tf\n",
    "from tensorflow.keras import Sequential, Model\n",
    "from tensorflow.keras.layers import Conv2D, MaxPool2D, GlobalAveragePooling2D\n",
    "from tensorflow.keras.layers import Dense, Flatten, BatchNormalization, Activation, Dropout\n",
    "from tensorflow.keras.layers import Conv1D, Embedding, GlobalAveragePooling1D \n",
    "from tensorflow.keras.optimizers import Adam, RMSprop\n",
    "from tensorflow.keras.preprocessing import image\n",
    "\n",
    "from PIL import ImageFile, ImageOps\n",
    "ImageFile.LOAD_TRUNCATED_IMAGES = True"
   ]
  },
  {
   "cell_type": "code",
   "execution_count": 3,
   "metadata": {
    "execution": {
     "iopub.execute_input": "2024-12-30T18:50:12.853299Z",
     "iopub.status.busy": "2024-12-30T18:50:12.852984Z",
     "iopub.status.idle": "2024-12-30T18:50:12.960156Z",
     "shell.execute_reply": "2024-12-30T18:50:12.959324Z",
     "shell.execute_reply.started": "2024-12-30T18:50:12.853254Z"
    }
   },
   "outputs": [
    {
     "data": {
      "text/html": [
       "<div>\n",
       "<style scoped>\n",
       "    .dataframe tbody tr th:only-of-type {\n",
       "        vertical-align: middle;\n",
       "    }\n",
       "\n",
       "    .dataframe tbody tr th {\n",
       "        vertical-align: top;\n",
       "    }\n",
       "\n",
       "    .dataframe thead th {\n",
       "        text-align: right;\n",
       "    }\n",
       "</style>\n",
       "<table border=\"1\" class=\"dataframe\">\n",
       "  <thead>\n",
       "    <tr style=\"text-align: right;\">\n",
       "      <th></th>\n",
       "      <th>image_name</th>\n",
       "      <th>text_corrected</th>\n",
       "      <th>humour</th>\n",
       "      <th>sarcasm</th>\n",
       "      <th>offensive</th>\n",
       "      <th>motivational</th>\n",
       "      <th>overall_sentiment</th>\n",
       "    </tr>\n",
       "  </thead>\n",
       "  <tbody>\n",
       "    <tr>\n",
       "      <th>0</th>\n",
       "      <td>image_1.jpg</td>\n",
       "      <td>LOOK THERE MY FRIEND LIGHTYEAR NOW ALL SOHALIK...</td>\n",
       "      <td>hilarious</td>\n",
       "      <td>general</td>\n",
       "      <td>not_offensive</td>\n",
       "      <td>not_motivational</td>\n",
       "      <td>very_positive</td>\n",
       "    </tr>\n",
       "    <tr>\n",
       "      <th>1</th>\n",
       "      <td>image_2.jpeg</td>\n",
       "      <td>The best of #10 YearChallenge! Completed in le...</td>\n",
       "      <td>not_funny</td>\n",
       "      <td>general</td>\n",
       "      <td>not_offensive</td>\n",
       "      <td>motivational</td>\n",
       "      <td>very_positive</td>\n",
       "    </tr>\n",
       "    <tr>\n",
       "      <th>2</th>\n",
       "      <td>image_3.JPG</td>\n",
       "      <td>Sam Thorne @Strippin ( Follow Follow Saw every...</td>\n",
       "      <td>very_funny</td>\n",
       "      <td>not_sarcastic</td>\n",
       "      <td>not_offensive</td>\n",
       "      <td>not_motivational</td>\n",
       "      <td>positive</td>\n",
       "    </tr>\n",
       "    <tr>\n",
       "      <th>3</th>\n",
       "      <td>image_4.png</td>\n",
       "      <td>10 Year Challenge - Sweet Dee Edition</td>\n",
       "      <td>very_funny</td>\n",
       "      <td>twisted_meaning</td>\n",
       "      <td>very_offensive</td>\n",
       "      <td>motivational</td>\n",
       "      <td>positive</td>\n",
       "    </tr>\n",
       "    <tr>\n",
       "      <th>4</th>\n",
       "      <td>image_5.png</td>\n",
       "      <td>10 YEAR CHALLENGE WITH NO FILTER 47 Hilarious ...</td>\n",
       "      <td>hilarious</td>\n",
       "      <td>very_twisted</td>\n",
       "      <td>very_offensive</td>\n",
       "      <td>not_motivational</td>\n",
       "      <td>neutral</td>\n",
       "    </tr>\n",
       "  </tbody>\n",
       "</table>\n",
       "</div>"
      ],
      "text/plain": [
       "     image_name                                     text_corrected  \\\n",
       "0   image_1.jpg  LOOK THERE MY FRIEND LIGHTYEAR NOW ALL SOHALIK...   \n",
       "1  image_2.jpeg  The best of #10 YearChallenge! Completed in le...   \n",
       "2   image_3.JPG  Sam Thorne @Strippin ( Follow Follow Saw every...   \n",
       "3   image_4.png              10 Year Challenge - Sweet Dee Edition   \n",
       "4   image_5.png  10 YEAR CHALLENGE WITH NO FILTER 47 Hilarious ...   \n",
       "\n",
       "       humour          sarcasm       offensive      motivational  \\\n",
       "0   hilarious          general   not_offensive  not_motivational   \n",
       "1   not_funny          general   not_offensive      motivational   \n",
       "2  very_funny    not_sarcastic   not_offensive  not_motivational   \n",
       "3  very_funny  twisted_meaning  very_offensive      motivational   \n",
       "4   hilarious     very_twisted  very_offensive  not_motivational   \n",
       "\n",
       "  overall_sentiment  \n",
       "0     very_positive  \n",
       "1     very_positive  \n",
       "2          positive  \n",
       "3          positive  \n",
       "4           neutral  "
      ]
     },
     "execution_count": 3,
     "metadata": {},
     "output_type": "execute_result"
    }
   ],
   "source": [
    "df = pd.read_csv('../input/memotion-dataset-7k/memotion_dataset_7k/labels.csv')\n",
    "df.drop(df.columns[df.columns.str.contains('unnamed',case = False)],axis = 1, inplace = True)\n",
    "df = df.drop(columns = ['text_ocr'])\n",
    "df.head()"
   ]
  },
  {
   "cell_type": "code",
   "execution_count": 4,
   "metadata": {
    "execution": {
     "iopub.execute_input": "2024-12-30T18:50:20.156720Z",
     "iopub.status.busy": "2024-12-30T18:50:20.156401Z",
     "iopub.status.idle": "2024-12-30T18:50:20.188598Z",
     "shell.execute_reply": "2024-12-30T18:50:20.187988Z",
     "shell.execute_reply.started": "2024-12-30T18:50:20.156692Z"
    }
   },
   "outputs": [],
   "source": [
    "df = df.replace({'humour': {'not_funny': 0, 'funny': 1, 'very_funny': 2, 'hilarious':3},\n",
    "            'sarcasm': {'not_sarcastic': 0, 'general': 1, 'twisted_meaning': 2, 'very_twisted': 3},\n",
    "            'offensive': {'not_offensive': 0, 'slight': 1, 'very_offensive': 2, 'hateful_offensive': 3},\n",
    "            'motivational': {'not_motivational': 0, 'motivational': 1},\n",
    "            'overall_sentiment': {'very_negative': 0, 'negative': 1, 'neutral': 2, 'positive': 3, 'very_positive': 4}})"
   ]
  },
  {
   "cell_type": "code",
   "execution_count": 5,
   "metadata": {
    "execution": {
     "iopub.execute_input": "2024-12-30T18:50:26.736388Z",
     "iopub.status.busy": "2024-12-30T18:50:26.736086Z",
     "iopub.status.idle": "2024-12-30T18:50:26.783769Z",
     "shell.execute_reply": "2024-12-30T18:50:26.783082Z",
     "shell.execute_reply.started": "2024-12-30T18:50:26.736362Z"
    }
   },
   "outputs": [
    {
     "data": {
      "text/plain": [
       "image_name           False\n",
       "text_corrected       False\n",
       "humour               False\n",
       "sarcasm              False\n",
       "offensive            False\n",
       "motivational         False\n",
       "overall_sentiment    False\n",
       "dtype: bool"
      ]
     },
     "execution_count": 5,
     "metadata": {},
     "output_type": "execute_result"
    }
   ],
   "source": [
    "cleaned = df.copy()\n",
    "cleaned.dropna(inplace=True)\n",
    "cleaned.isnull().any()"
   ]
  },
  {
   "cell_type": "code",
   "execution_count": 6,
   "metadata": {
    "execution": {
     "iopub.execute_input": "2024-12-30T18:50:32.713890Z",
     "iopub.status.busy": "2024-12-30T18:50:32.713566Z",
     "iopub.status.idle": "2024-12-30T18:52:01.251497Z",
     "shell.execute_reply": "2024-12-30T18:52:01.250647Z",
     "shell.execute_reply.started": "2024-12-30T18:50:32.713860Z"
    }
   },
   "outputs": [
    {
     "name": "stderr",
     "output_type": "stream",
     "text": [
      " 93%|█████████▎| 6501/6987 [01:22<00:05, 87.98it/s] /opt/conda/lib/python3.7/site-packages/PIL/TiffImagePlugin.py:785: UserWarning: Corrupt EXIF data.  Expecting to read 2 bytes but only got 0. \n",
      "  warnings.warn(str(msg))\n",
      " 95%|█████████▌| 6668/6987 [01:24<00:03, 93.06it/s] /opt/conda/lib/python3.7/site-packages/PIL/Image.py:961: UserWarning: Palette images with Transparency expressed in bytes should be converted to RGBA images\n",
      "  \"Palette images with Transparency expressed in bytes should be \"\n",
      "100%|██████████| 6987/6987 [01:28<00:00, 79.14it/s]\n"
     ]
    }
   ],
   "source": [
    "width = 100\n",
    "height = 100\n",
    "X = []\n",
    "for i in tqdm(range(cleaned.shape[0])):\n",
    "    if i in [119, 4799, 6781, 6784, 6786]:\n",
    "        pass\n",
    "    else:\n",
    "        path = '../input/memotion-dataset-7k/memotion_dataset_7k/images/'+cleaned['image_name'][i]\n",
    "        img = image.load_img(path,target_size=(width,height,3))\n",
    "        img = image.img_to_array(img)\n",
    "        img = img/255.0\n",
    "        X.append(img)\n",
    "        \n",
    "X = np.array(X)"
   ]
  },
  {
   "cell_type": "code",
   "execution_count": 7,
   "metadata": {
    "execution": {
     "iopub.execute_input": "2024-12-30T18:52:11.395851Z",
     "iopub.status.busy": "2024-12-30T18:52:11.395568Z",
     "iopub.status.idle": "2024-12-30T18:52:11.401054Z",
     "shell.execute_reply": "2024-12-30T18:52:11.400076Z",
     "shell.execute_reply.started": "2024-12-30T18:52:11.395826Z"
    }
   },
   "outputs": [
    {
     "data": {
      "text/plain": [
       "(6982, 100, 100, 3)"
      ]
     },
     "execution_count": 7,
     "metadata": {},
     "output_type": "execute_result"
    }
   ],
   "source": [
    "X.shape"
   ]
  },
  {
   "cell_type": "code",
   "execution_count": 8,
   "metadata": {
    "execution": {
     "iopub.execute_input": "2024-12-30T18:52:17.423167Z",
     "iopub.status.busy": "2024-12-30T18:52:17.422865Z",
     "iopub.status.idle": "2024-12-30T18:52:17.426705Z",
     "shell.execute_reply": "2024-12-30T18:52:17.426008Z",
     "shell.execute_reply.started": "2024-12-30T18:52:17.423139Z"
    }
   },
   "outputs": [],
   "source": [
    "rows_to_drop = ['image_120.jpg',\n",
    "              'image_4800.jpg',\n",
    "              'image_6782.jpg',\n",
    "              'image_6785.jpg',\n",
    "              'image_6787.jpg',\n",
    "              'image_6988.jpg',\n",
    "              'image_6989.jpg',\n",
    "              'image_6990.png',\n",
    "              'image_6991.jpg',\n",
    "              'image_6992.jpg']"
   ]
  },
  {
   "cell_type": "code",
   "execution_count": 10,
   "metadata": {
    "execution": {
     "iopub.execute_input": "2024-12-30T18:52:35.721506Z",
     "iopub.status.busy": "2024-12-30T18:52:35.721168Z",
     "iopub.status.idle": "2024-12-30T18:52:35.745805Z",
     "shell.execute_reply": "2024-12-30T18:52:35.745119Z",
     "shell.execute_reply.started": "2024-12-30T18:52:35.721472Z"
    }
   },
   "outputs": [],
   "source": [
    "for images in rows_to_drop:\n",
    "    cleaned.drop(cleaned[cleaned['image_name'] == images].index, inplace=True)"
   ]
  },
  {
   "cell_type": "code",
   "execution_count": 12,
   "metadata": {
    "execution": {
     "iopub.execute_input": "2024-12-30T18:52:43.446560Z",
     "iopub.status.busy": "2024-12-30T18:52:43.446244Z",
     "iopub.status.idle": "2024-12-30T18:52:43.695930Z",
     "shell.execute_reply": "2024-12-30T18:52:43.695084Z",
     "shell.execute_reply.started": "2024-12-30T18:52:43.446532Z"
    }
   },
   "outputs": [],
   "source": [
    "Y = cleaned.iloc[:,2:]\n",
    "X_train, X_test, y_train, y_test = train_test_split(X, Y, test_size = 0.2)"
   ]
  },
  {
   "cell_type": "code",
   "execution_count": 14,
   "metadata": {
    "execution": {
     "iopub.execute_input": "2024-12-30T18:52:54.783141Z",
     "iopub.status.busy": "2024-12-30T18:52:54.782837Z",
     "iopub.status.idle": "2024-12-30T18:52:54.786784Z",
     "shell.execute_reply": "2024-12-30T18:52:54.786123Z",
     "shell.execute_reply.started": "2024-12-30T18:52:54.783111Z"
    }
   },
   "outputs": [],
   "source": [
    "Y = cleaned.iloc[:,2:]"
   ]
  },
  {
   "cell_type": "code",
   "execution_count": 15,
   "metadata": {
    "execution": {
     "iopub.execute_input": "2024-12-30T18:52:59.334417Z",
     "iopub.status.busy": "2024-12-30T18:52:59.334109Z",
     "iopub.status.idle": "2024-12-30T18:52:59.344638Z",
     "shell.execute_reply": "2024-12-30T18:52:59.343925Z",
     "shell.execute_reply.started": "2024-12-30T18:52:59.334389Z"
    }
   },
   "outputs": [
    {
     "data": {
      "text/html": [
       "<div>\n",
       "<style scoped>\n",
       "    .dataframe tbody tr th:only-of-type {\n",
       "        vertical-align: middle;\n",
       "    }\n",
       "\n",
       "    .dataframe tbody tr th {\n",
       "        vertical-align: top;\n",
       "    }\n",
       "\n",
       "    .dataframe thead th {\n",
       "        text-align: right;\n",
       "    }\n",
       "</style>\n",
       "<table border=\"1\" class=\"dataframe\">\n",
       "  <thead>\n",
       "    <tr style=\"text-align: right;\">\n",
       "      <th></th>\n",
       "      <th>humour</th>\n",
       "      <th>sarcasm</th>\n",
       "      <th>offensive</th>\n",
       "      <th>motivational</th>\n",
       "      <th>overall_sentiment</th>\n",
       "    </tr>\n",
       "  </thead>\n",
       "  <tbody>\n",
       "    <tr>\n",
       "      <th>619</th>\n",
       "      <td>2</td>\n",
       "      <td>0</td>\n",
       "      <td>0</td>\n",
       "      <td>1</td>\n",
       "      <td>3</td>\n",
       "    </tr>\n",
       "    <tr>\n",
       "      <th>349</th>\n",
       "      <td>0</td>\n",
       "      <td>0</td>\n",
       "      <td>0</td>\n",
       "      <td>0</td>\n",
       "      <td>2</td>\n",
       "    </tr>\n",
       "    <tr>\n",
       "      <th>3888</th>\n",
       "      <td>3</td>\n",
       "      <td>1</td>\n",
       "      <td>1</td>\n",
       "      <td>1</td>\n",
       "      <td>2</td>\n",
       "    </tr>\n",
       "    <tr>\n",
       "      <th>4353</th>\n",
       "      <td>0</td>\n",
       "      <td>1</td>\n",
       "      <td>0</td>\n",
       "      <td>0</td>\n",
       "      <td>2</td>\n",
       "    </tr>\n",
       "    <tr>\n",
       "      <th>2090</th>\n",
       "      <td>2</td>\n",
       "      <td>2</td>\n",
       "      <td>1</td>\n",
       "      <td>0</td>\n",
       "      <td>3</td>\n",
       "    </tr>\n",
       "    <tr>\n",
       "      <th>...</th>\n",
       "      <td>...</td>\n",
       "      <td>...</td>\n",
       "      <td>...</td>\n",
       "      <td>...</td>\n",
       "      <td>...</td>\n",
       "    </tr>\n",
       "    <tr>\n",
       "      <th>4297</th>\n",
       "      <td>1</td>\n",
       "      <td>0</td>\n",
       "      <td>0</td>\n",
       "      <td>1</td>\n",
       "      <td>3</td>\n",
       "    </tr>\n",
       "    <tr>\n",
       "      <th>995</th>\n",
       "      <td>1</td>\n",
       "      <td>1</td>\n",
       "      <td>0</td>\n",
       "      <td>0</td>\n",
       "      <td>1</td>\n",
       "    </tr>\n",
       "    <tr>\n",
       "      <th>3493</th>\n",
       "      <td>2</td>\n",
       "      <td>0</td>\n",
       "      <td>0</td>\n",
       "      <td>0</td>\n",
       "      <td>3</td>\n",
       "    </tr>\n",
       "    <tr>\n",
       "      <th>6435</th>\n",
       "      <td>1</td>\n",
       "      <td>1</td>\n",
       "      <td>0</td>\n",
       "      <td>0</td>\n",
       "      <td>3</td>\n",
       "    </tr>\n",
       "    <tr>\n",
       "      <th>3278</th>\n",
       "      <td>2</td>\n",
       "      <td>1</td>\n",
       "      <td>0</td>\n",
       "      <td>0</td>\n",
       "      <td>4</td>\n",
       "    </tr>\n",
       "  </tbody>\n",
       "</table>\n",
       "<p>5585 rows × 5 columns</p>\n",
       "</div>"
      ],
      "text/plain": [
       "      humour  sarcasm  offensive  motivational  overall_sentiment\n",
       "619        2        0          0             1                  3\n",
       "349        0        0          0             0                  2\n",
       "3888       3        1          1             1                  2\n",
       "4353       0        1          0             0                  2\n",
       "2090       2        2          1             0                  3\n",
       "...      ...      ...        ...           ...                ...\n",
       "4297       1        0          0             1                  3\n",
       "995        1        1          0             0                  1\n",
       "3493       2        0          0             0                  3\n",
       "6435       1        1          0             0                  3\n",
       "3278       2        1          0             0                  4\n",
       "\n",
       "[5585 rows x 5 columns]"
      ]
     },
     "execution_count": 15,
     "metadata": {},
     "output_type": "execute_result"
    }
   ],
   "source": [
    "y_train"
   ]
  },
  {
   "cell_type": "code",
   "execution_count": 16,
   "metadata": {
    "execution": {
     "iopub.execute_input": "2024-12-30T18:53:09.022654Z",
     "iopub.status.busy": "2024-12-30T18:53:09.022351Z",
     "iopub.status.idle": "2024-12-30T18:53:12.555726Z",
     "shell.execute_reply": "2024-12-30T18:53:12.555113Z",
     "shell.execute_reply.started": "2024-12-30T18:53:09.022629Z"
    }
   },
   "outputs": [],
   "source": [
    "data_augmentation = tf.keras.Sequential([\n",
    "  tf.keras.layers.experimental.preprocessing.RandomFlip('horizontal'),\n",
    "  tf.keras.layers.experimental.preprocessing.RandomRotation(0.2),\n",
    "])\n",
    "\n",
    "preprocess_input = tf.keras.applications.resnet_v2.preprocess_input\n",
    "\n",
    "rescale = tf.keras.layers.experimental.preprocessing.Rescaling(1./127.5, offset= -1)"
   ]
  },
  {
   "cell_type": "code",
   "execution_count": 17,
   "metadata": {
    "execution": {
     "iopub.execute_input": "2024-12-30T18:53:18.966202Z",
     "iopub.status.busy": "2024-12-30T18:53:18.965933Z",
     "iopub.status.idle": "2024-12-30T18:53:21.732474Z",
     "shell.execute_reply": "2024-12-30T18:53:21.731850Z",
     "shell.execute_reply.started": "2024-12-30T18:53:18.966178Z"
    }
   },
   "outputs": [
    {
     "name": "stdout",
     "output_type": "stream",
     "text": [
      "Downloading data from https://storage.googleapis.com/tensorflow/keras-applications/resnet/resnet50_weights_tf_dim_ordering_tf_kernels_notop.h5\n",
      "94773248/94765736 [==============================] - 0s 0us/step\n",
      "Downloading data from https://storage.googleapis.com/tensorflow/keras-applications/vgg16/vgg16_weights_tf_dim_ordering_tf_kernels_notop.h5\n",
      "58892288/58889256 [==============================] - 0s 0us/step\n"
     ]
    }
   ],
   "source": [
    "base_model_1 = tf.keras.applications.ResNet50(input_shape=X[0].shape,\n",
    "                                               include_top=False,\n",
    "                                               weights='imagenet')\n",
    "base_model_2 = tf.keras.applications.VGG16(input_shape=X[0].shape,\n",
    "                                               include_top=False,\n",
    "                                               weights='imagenet')"
   ]
  },
  {
   "cell_type": "code",
   "execution_count": 18,
   "metadata": {
    "execution": {
     "iopub.execute_input": "2024-12-30T18:53:25.403183Z",
     "iopub.status.busy": "2024-12-30T18:53:25.402865Z",
     "iopub.status.idle": "2024-12-30T18:53:25.411793Z",
     "shell.execute_reply": "2024-12-30T18:53:25.410973Z",
     "shell.execute_reply.started": "2024-12-30T18:53:25.403151Z"
    }
   },
   "outputs": [],
   "source": [
    "base_model_1.trainable = False\n",
    "base_model_2.trainable = False"
   ]
  },
  {
   "cell_type": "code",
   "execution_count": 19,
   "metadata": {
    "execution": {
     "iopub.execute_input": "2024-12-30T18:53:32.607759Z",
     "iopub.status.busy": "2024-12-30T18:53:32.607460Z",
     "iopub.status.idle": "2024-12-30T18:53:33.199774Z",
     "shell.execute_reply": "2024-12-30T18:53:33.199152Z",
     "shell.execute_reply.started": "2024-12-30T18:53:32.607733Z"
    }
   },
   "outputs": [],
   "source": [
    "image_input = tf.keras.Input(shape=(100, 100, 3), name = 'image_input')\n",
    "image_layers = data_augmentation(image_input)\n",
    "image_layers = preprocess_input(image_layers)\n",
    "layer_bm_1 = base_model_1(image_input, training=False)\n",
    "layer_bm_1 = Conv2D(2048, kernel_size=2,padding='valid')(layer_bm_1)\n",
    "layer_bm_1 = Dense(512)(layer_bm_1)\n",
    "layer_bm_2 = base_model_2(image_input, training=False)\n",
    "layer_bm_2 = Dense(512)(layer_bm_2)\n",
    "layers = tf.keras.layers.concatenate([layer_bm_1, layer_bm_2])\n",
    "image_layers = GlobalAveragePooling2D()(layers)\n",
    "image_layers = Dropout(0.2, name = 'dropout_layer')(image_layers)"
   ]
  },
  {
   "cell_type": "code",
   "execution_count": 21,
   "metadata": {
    "execution": {
     "iopub.execute_input": "2024-12-30T18:53:45.555562Z",
     "iopub.status.busy": "2024-12-30T18:53:45.555200Z",
     "iopub.status.idle": "2024-12-30T18:53:45.629875Z",
     "shell.execute_reply": "2024-12-30T18:53:45.629338Z",
     "shell.execute_reply.started": "2024-12-30T18:53:45.555532Z"
    }
   },
   "outputs": [],
   "source": [
    "def standardization(data):\n",
    "    data = data.apply(lambda x: x.lower())\n",
    "    data = data.apply(lambda x: re.sub(r'\\d+', '', x))\n",
    "    data = data.apply(lambda x: re.sub(r'.com', '', x, flags=re.MULTILINE))\n",
    "    data = data.apply(lambda x: x.translate(str.maketrans('', '', string.punctuation)))\n",
    "    return data\n",
    "\n",
    "cleaned['text_corrected'] = standardization(cleaned.text_corrected)"
   ]
  },
  {
   "cell_type": "code",
   "execution_count": 22,
   "metadata": {
    "execution": {
     "iopub.execute_input": "2024-12-30T18:53:50.103296Z",
     "iopub.status.busy": "2024-12-30T18:53:50.102977Z",
     "iopub.status.idle": "2024-12-30T18:53:50.380225Z",
     "shell.execute_reply": "2024-12-30T18:53:50.379552Z",
     "shell.execute_reply.started": "2024-12-30T18:53:50.103253Z"
    }
   },
   "outputs": [],
   "source": [
    "from tensorflow.keras.layers.experimental.preprocessing import TextVectorization\n",
    "vocab_size = 100000\n",
    "sequence_length = 50\n",
    "\n",
    "vectorize_layer = TextVectorization(\n",
    "    max_tokens=vocab_size,\n",
    "    output_mode='int',\n",
    "    output_sequence_length=sequence_length)\n",
    "\n",
    "text_ds = np.asarray(cleaned['text_corrected'])\n",
    "vectorize_layer.adapt(tf.convert_to_tensor(text_ds))"
   ]
  },
  {
   "cell_type": "code",
   "execution_count": 25,
   "metadata": {
    "execution": {
     "iopub.execute_input": "2024-12-30T18:54:06.263876Z",
     "iopub.status.busy": "2024-12-30T18:54:06.263607Z",
     "iopub.status.idle": "2024-12-30T18:54:06.270535Z",
     "shell.execute_reply": "2024-12-30T18:54:06.269859Z",
     "shell.execute_reply.started": "2024-12-30T18:54:06.263853Z"
    }
   },
   "outputs": [],
   "source": [
    "X_text_train, X_text_test, y_text_train, y_text_test = train_test_split(cleaned.text_corrected, Y, test_size = 0.2)"
   ]
  },
  {
   "cell_type": "code",
   "execution_count": 26,
   "metadata": {
    "execution": {
     "iopub.execute_input": "2024-12-30T18:54:19.749461Z",
     "iopub.status.busy": "2024-12-30T18:54:19.749157Z",
     "iopub.status.idle": "2024-12-30T18:54:20.196594Z",
     "shell.execute_reply": "2024-12-30T18:54:20.196005Z",
     "shell.execute_reply.started": "2024-12-30T18:54:19.749434Z"
    }
   },
   "outputs": [],
   "source": [
    "embedding_dim=32\n",
    "\n",
    "text_input = tf.keras.Input(shape=(None,), dtype=tf.string, name='text')\n",
    "text_layers = vectorize_layer(text_input)\n",
    "text_layers = tf.keras.layers.Embedding(vocab_size, embedding_dim, name=\"embedding\")(text_layers)\n",
    "text_layers = tf.keras.layers.Dropout(0.5)(text_layers)\n",
    "\n",
    "text_layers = tf.keras.layers.Bidirectional(tf.keras.layers.LSTM(256, activation='relu', return_sequences=True))(text_layers)\n",
    "text_layers = tf.keras.layers.Bidirectional(tf.keras.layers.LSTM(256, activation='relu', return_sequences=True))(text_layers)\n",
    "\n",
    "text_layers = tf.keras.layers.Conv1D(128, 7, padding=\"valid\", activation=\"relu\", strides=3)(text_layers)\n",
    "text_layers = tf.keras.layers.Conv1D(128, 7, padding=\"valid\", activation=\"relu\", strides=3)(text_layers)\n",
    "text_layers = tf.keras.layers.GlobalMaxPooling1D()(text_layers)\n",
    "\n",
    "text_layers = tf.keras.layers.Dense(2048, activation=\"relu\")(text_layers)\n",
    "text_layers = tf.keras.layers.Dropout(0.5)(text_layers)"
   ]
  },
  {
   "cell_type": "code",
   "execution_count": 27,
   "metadata": {
    "execution": {
     "iopub.execute_input": "2024-12-30T18:54:30.761263Z",
     "iopub.status.busy": "2024-12-30T18:54:30.760984Z",
     "iopub.status.idle": "2024-12-30T18:54:30.814003Z",
     "shell.execute_reply": "2024-12-30T18:54:30.813343Z",
     "shell.execute_reply.started": "2024-12-30T18:54:30.761238Z"
    }
   },
   "outputs": [],
   "source": [
    "concatenate = tf.keras.layers.concatenate([image_layers, text_layers], axis=1)\n",
    "semi_final_layer = tf.keras.layers.Dense(2048, activation='softmax')(concatenate)\n",
    "\n",
    "prediction_layer_1 = tf.keras.layers.Dense(4, activation='softmax', name = 'sarcasm')\n",
    "prediction_layer_2 = tf.keras.layers.Dense(4, activation='softmax', name = 'humuor')\n",
    "prediction_layer_3 = tf.keras.layers.Dense(4, activation='softmax', name = 'offensive')\n",
    "prediction_layer_4 = tf.keras.layers.Dense(1, activation='sigmoid', name = 'motivational')\n",
    "prediction_layer_5 = tf.keras.layers.Dense(5, activation='softmax', name = 'overall')\n",
    "\n",
    "output_1 = prediction_layer_1(semi_final_layer)\n",
    "output_2 = prediction_layer_2(semi_final_layer)\n",
    "output_3 = prediction_layer_3(semi_final_layer)\n",
    "output_4 = prediction_layer_4(semi_final_layer)\n",
    "output_5 = prediction_layer_5(semi_final_layer)\n",
    "\n",
    "model = tf.keras.Model(inputs = [image_input, text_input] , \n",
    "                       outputs = [output_1, output_2, output_3, output_4, output_5])"
   ]
  },
  {
   "cell_type": "code",
   "execution_count": 28,
   "metadata": {
    "execution": {
     "iopub.execute_input": "2024-12-30T18:54:37.852722Z",
     "iopub.status.busy": "2024-12-30T18:54:37.852426Z",
     "iopub.status.idle": "2024-12-30T18:54:37.877542Z",
     "shell.execute_reply": "2024-12-30T18:54:37.876660Z",
     "shell.execute_reply.started": "2024-12-30T18:54:37.852698Z"
    }
   },
   "outputs": [],
   "source": [
    "base_learning_rate = 0.001\n",
    "losses = {\n",
    "      \"humuor\": tf.keras.losses.SparseCategoricalCrossentropy(from_logits=True), \n",
    "      \"sarcasm\": tf.keras.losses.SparseCategoricalCrossentropy(from_logits=True), \n",
    "      \"offensive\": tf.keras.losses.SparseCategoricalCrossentropy(from_logits=True), \n",
    "      \"motivational\": tf.keras.losses.BinaryCrossentropy(from_logits=False),\n",
    "      \"overall\": tf.keras.losses.SparseCategoricalCrossentropy(from_logits=True)\n",
    "}\n",
    "lossWeights = {\n",
    "      \"humuor\": 1.0, \n",
    "      \"sarcasm\": 1.0, \n",
    "      \"offensive\": 1.0, \n",
    "      \"motivational\": 1.0,\n",
    "      \"overall\": 1.0\n",
    "}\n",
    "metric = {\n",
    "    \"humuor\": ['sparse_categorical_accuracy'],\n",
    "    \"sarcasm\": ['sparse_categorical_accuracy'],\n",
    "    \"offensive\": ['sparse_categorical_accuracy'],\n",
    "    \"motivational\": ['binary_accuracy'],\n",
    "    \"overall\": ['sparse_categorical_accuracy']\n",
    "}\n",
    "\n",
    "model.compile(optimizer=tf.keras.optimizers.Adam(lr=base_learning_rate),\n",
    "              loss = losses,\n",
    "              loss_weights= lossWeights,\n",
    "              metrics=metric)"
   ]
  },
  {
   "cell_type": "code",
   "execution_count": null,
   "metadata": {
    "execution": {
     "iopub.execute_input": "2024-12-30T18:03:51.925866Z",
     "iopub.status.busy": "2024-12-30T18:03:51.925591Z",
     "iopub.status.idle": "2024-12-30T18:04:48.672691Z",
     "shell.execute_reply": "2024-12-30T18:04:48.671891Z",
     "shell.execute_reply.started": "2024-12-30T18:03:51.92584Z"
    }
   },
   "outputs": [],
   "source": [
    "history = model.fit(x = {\"image_input\": X_train, \"text_input\": X_text_train},\n",
    "                    y = {\"sarcasm\": y_train.sarcasm, \n",
    "                         \"humuor\": y_train.humour, \n",
    "                         \"offensive\": y_train.offensive, \n",
    "                         \"motivational\": y_train.motivational, \n",
    "                         \"overall\": y_train.overall_sentiment},\n",
    "                    batch_size=32,\n",
    "                    epochs=1,\n",
    "                    verbose=1\n",
    "                   )"
   ]
  },
  {
   "cell_type": "code",
   "execution_count": 29,
   "metadata": {
    "execution": {
     "iopub.execute_input": "2024-12-30T18:55:40.274032Z",
     "iopub.status.busy": "2024-12-30T18:55:40.273717Z",
     "iopub.status.idle": "2024-12-30T18:55:53.014057Z",
     "shell.execute_reply": "2024-12-30T18:55:53.013370Z",
     "shell.execute_reply.started": "2024-12-30T18:55:40.274002Z"
    }
   },
   "outputs": [
    {
     "name": "stdout",
     "output_type": "stream",
     "text": [
      "44/44 [==============================] - 4s 88ms/step - loss: 6.4612 - sarcasm_loss: 1.3863 - humuor_loss: 1.3863 - offensive_loss: 1.3863 - motivational_loss: 0.6930 - overall_loss: 1.6094 - sarcasm_sparse_categorical_accuracy: 0.4588 - humuor_sparse_categorical_accuracy: 0.3185 - offensive_sparse_categorical_accuracy: 0.3636 - motivational_binary_accuracy: 0.6593 - overall_sparse_categorical_accuracy: 0.4517\n"
     ]
    }
   ],
   "source": [
    "history = model.evaluate(x = {\"image_input\": X_test, \"text_input\": X_text_test},\n",
    "                    y = {\"sarcasm\": y_test.sarcasm, \n",
    "                         \"humuor\": y_test.humour, \n",
    "                         \"offensive\": y_test.offensive, \n",
    "                         \"motivational\": y_test.motivational, \n",
    "                         \"overall\": y_test.overall_sentiment},\n",
    "                    batch_size=32,\n",
    "                    verbose=1\n",
    "                   )"
   ]
  },
  {
   "cell_type": "code",
   "execution_count": 30,
   "metadata": {
    "execution": {
     "iopub.execute_input": "2024-12-30T18:56:35.366587Z",
     "iopub.status.busy": "2024-12-30T18:56:35.366226Z",
     "iopub.status.idle": "2024-12-30T18:56:35.373951Z",
     "shell.execute_reply": "2024-12-30T18:56:35.373203Z",
     "shell.execute_reply.started": "2024-12-30T18:56:35.366552Z"
    }
   },
   "outputs": [],
   "source": [
    "import matplotlib.pyplot as plt\n",
    "from sklearn.utils import resample\n",
    "\n",
    "\n",
    "def plot_class_distribution(data, column, title):\n",
    "    class_counts = data[column].value_counts()\n",
    "    class_labels = class_counts.index\n",
    "    class_values = class_counts.values\n",
    "\n",
    "    plt.figure(figsize=(8, 6))\n",
    "    plt.bar(class_labels, class_values, color='skyblue')\n",
    "    plt.title(f\"{title} - Class Distribution\", fontsize=14)\n",
    "    plt.xlabel(\"Class\", fontsize=12)\n",
    "    plt.ylabel(\"Count\", fontsize=12)\n",
    "    plt.xticks(rotation=45, fontsize=10)\n",
    "    plt.grid(axis='y', linestyle='--', alpha=0.7)\n",
    "    plt.show()"
   ]
  },
  {
   "cell_type": "code",
   "execution_count": 31,
   "metadata": {
    "execution": {
     "iopub.execute_input": "2024-12-30T18:56:42.903052Z",
     "iopub.status.busy": "2024-12-30T18:56:42.902755Z",
     "iopub.status.idle": "2024-12-30T18:56:43.581755Z",
     "shell.execute_reply": "2024-12-30T18:56:43.581023Z",
     "shell.execute_reply.started": "2024-12-30T18:56:42.903027Z"
    }
   },
   "outputs": [
    {
     "name": "stdout",
     "output_type": "stream",
     "text": [
      "Class distribution for humour:\n",
      "1    2450\n",
      "2    2235\n",
      "0    1647\n",
      "3     650\n",
      "Name: humour, dtype: int64 \n",
      "\n"
     ]
    },
    {
     "data": {
      "image/png": "[encoded data removed]",
      "text/plain": [
       "<Figure size 576x432 with 1 Axes>"
      ]
     },
     "metadata": {
      "needs_background": "light"
     },
     "output_type": "display_data"
    },
    {
     "name": "stdout",
     "output_type": "stream",
     "text": [
      "Class distribution for sarcasm:\n",
      "1    3503\n",
      "2    1543\n",
      "0    1542\n",
      "3     394\n",
      "Name: sarcasm, dtype: int64 \n",
      "\n"
     ]
    },
    {
     "data": {
      "image/png": "[encoded data removed]",
      "text/plain": [
       "<Figure size 576x432 with 1 Axes>"
      ]
     },
     "metadata": {
      "needs_background": "light"
     },
     "output_type": "display_data"
    },
    {
     "name": "stdout",
     "output_type": "stream",
     "text": [
      "Class distribution for offensive:\n",
      "0    2707\n",
      "1    2590\n",
      "2    1464\n",
      "3     221\n",
      "Name: offensive, dtype: int64 \n",
      "\n"
     ]
    },
    {
     "data": {
      "image/png": "[encoded data removed]",
      "text/plain": [
       "<Figure size 576x432 with 1 Axes>"
      ]
     },
     "metadata": {
      "needs_background": "light"
     },
     "output_type": "display_data"
    },
    {
     "name": "stdout",
     "output_type": "stream",
     "text": [
      "Class distribution for motivational:\n",
      "0    4520\n",
      "1    2462\n",
      "Name: motivational, dtype: int64 \n",
      "\n"
     ]
    },
    {
     "data": {
      "image/png": "[encoded data removed]",
      "text/plain": [
       "<Figure size 576x432 with 1 Axes>"
      ]
     },
     "metadata": {
      "needs_background": "light"
     },
     "output_type": "display_data"
    }
   ],
   "source": [
    "\n",
    "target_columns = ['humour', 'sarcasm', 'offensive', 'motivational']\n",
    "for column in target_columns:\n",
    "    print(f\"Class distribution for {column}:\")\n",
    "    print(cleaned[column].value_counts(), \"\\n\")\n",
    "    plot_class_distribution(cleaned, column, column)\n",
    "\n"
   ]
  },
  {
   "cell_type": "code",
   "execution_count": null,
   "metadata": {
    "execution": {
     "iopub.execute_input": "2024-12-30T18:04:54.178091Z",
     "iopub.status.busy": "2024-12-30T18:04:54.177819Z",
     "iopub.status.idle": "2024-12-30T18:04:54.186518Z",
     "shell.execute_reply": "2024-12-30T18:04:54.185425Z",
     "shell.execute_reply.started": "2024-12-30T18:04:54.178066Z"
    }
   },
   "outputs": [],
   "source": [
    "\n",
    "def balance_dataset_lowest(df, target_columns):\n",
    "    print(\"Balancing dataset based on the lowest class size across all columns...\\n\")\n",
    "\n",
    "    \n",
    "    min_class_size = min(df[col].value_counts().min() for col in target_columns)\n",
    "\n",
    "    balanced_dfs = []\n",
    "\n",
    "    for col in target_columns:\n",
    "        print(f\"Original class distribution for {col}:\")\n",
    "        print(df[col].value_counts(), \"\\n\")\n",
    "\n",
    "    \n",
    "        classes = df[col].unique()\n",
    "\n",
    "        \n",
    "        for cls in classes:\n",
    "            class_df = df[df[col] == cls]\n",
    "            resampled_class_df = resample(\n",
    "                class_df,\n",
    "                replace=False,  \n",
    "                n_samples=min_class_size,\n",
    "                random_state=42  \n",
    "            )\n",
    "            balanced_dfs.append(resampled_class_df)\n",
    "\n",
    "        print(f\"Balanced class distribution for {col}:\")\n",
    "        print(df[col].value_counts(), \"\\n\")\n",
    "\n",
    "    \n",
    "    balanced_df = pd.concat(balanced_dfs).drop_duplicates()\n",
    "    return balanced_df"
   ]
  },
  {
   "cell_type": "code",
   "execution_count": null,
   "metadata": {
    "execution": {
     "iopub.execute_input": "2024-12-30T18:04:54.188465Z",
     "iopub.status.busy": "2024-12-30T18:04:54.188005Z",
     "iopub.status.idle": "2024-12-30T18:04:54.24645Z",
     "shell.execute_reply": "2024-12-30T18:04:54.245757Z",
     "shell.execute_reply.started": "2024-12-30T18:04:54.188433Z"
    }
   },
   "outputs": [],
   "source": [
    "\n",
    "balanced_cleaned = balance_dataset_lowest(cleaned, target_columns)\n",
    "\n",
    "\n",
    "print(f\"Final balanced dataset size: {balanced_cleaned.shape}\")\n",
    "for col in target_columns:\n",
    "    print(f\"Class distribution for {col} after balancing:\")\n",
    "    print(balanced_cleaned[col].value_counts(), \"\\n\")"
   ]
  },
  {
   "cell_type": "code",
   "execution_count": null,
   "metadata": {
    "execution": {
     "iopub.execute_input": "2024-12-30T16:47:50.928664Z",
     "iopub.status.busy": "2024-12-30T16:47:50.928433Z",
     "iopub.status.idle": "2024-12-30T16:47:50.934445Z",
     "shell.execute_reply": "2024-12-30T16:47:50.933812Z",
     "shell.execute_reply.started": "2024-12-30T16:47:50.928641Z"
    }
   },
   "outputs": [],
   "source": [
    "import os\n",
    "import re\n",
    "import string\n",
    "import numpy as np\n",
    "import pandas as pd\n",
    "import tensorflow as tf\n",
    "import matplotlib.pyplot as plt\n",
    "from tqdm import tqdm\n",
    "from sklearn.model_selection import train_test_split\n",
    "from sklearn.utils.class_weight import compute_class_weight\n",
    "from tensorflow.keras import Sequential\n",
    "from tensorflow.keras.layers import (Dense, Dropout, Input, Embedding, LSTM, Bidirectional, Flatten)\n",
    "from tensorflow.keras.applications import ResNet50\n",
    "from tensorflow.keras.preprocessing import image\n",
    "from tensorflow.keras.models import Model\n",
    "from tensorflow.keras.optimizers import Adam\n",
    "from tensorflow.keras.callbacks import ReduceLROnPlateau, EarlyStopping, ModelCheckpoint, TensorBoard\n",
    "from tensorflow.keras.layers.experimental.preprocessing import TextVectorization, Rescaling, RandomFlip, RandomRotation\n"
   ]
  },
  {
   "cell_type": "code",
   "execution_count": null,
   "metadata": {
    "execution": {
     "iopub.execute_input": "2024-12-30T16:47:50.935781Z",
     "iopub.status.busy": "2024-12-30T16:47:50.935548Z",
     "iopub.status.idle": "2024-12-30T16:47:51.032787Z",
     "shell.execute_reply": "2024-12-30T16:47:51.032251Z",
     "shell.execute_reply.started": "2024-12-30T16:47:50.935758Z"
    }
   },
   "outputs": [],
   "source": [
    "\n",
    "df = pd.read_csv('../input/memotion-dataset-7k/memotion_dataset_7k/labels.csv')\n",
    "df.drop(df.columns[df.columns.str.contains('unnamed', case=False)], axis=1, inplace=True)\n",
    "df = df.replace({\n",
    "    'humour': {'not_funny': 0, 'funny': 1, 'very_funny': 2, 'hilarious': 3},\n",
    "    'sarcasm': {'not_sarcastic': 0, 'general': 1, 'twist': 2},\n",
    "    'offensive': {'not_offensive': 0, 'slightly_offensive': 1, 'very_offensive': 2},\n",
    "    'motivational': {'not_motivational': 0, 'motivational': 1}\n",
    "\n",
    "for col in ['humour', 'sarcasm', 'motivational', 'offensive']:\n",
    "    df[col] = pd.to_numeric(df[col], errors='coerce')  \n",
    "\n",
    "\n",
    "df.dropna(subset=['humour', 'sarcasm', 'motivational', 'offensive'], inplace=True)\n",
    "\n",
    "\n",
    "def assign_class(row):\n",
    "    if row['humour'] > 0:\n",
    "        return 1  \n",
    "    elif row['sarcasm'] > 0:\n",
    "        return 0  \n",
    "    elif row['motivational'] > 0:\n",
    "        return 2  \n",
    "    elif row['offensive'] > 0:\n",
    "        return 3  \n",
    "    return -1  \n",
    "\n",
    "\n",
    "df['humour_class'] = df.apply(assign_class, axis=1)\n",
    "\n",
    "\n",
    "df = df[df['humour_class'] != -1]"
   ]
  },
  {
   "cell_type": "code",
   "execution_count": null,
   "metadata": {
    "execution": {
     "iopub.execute_input": "2024-12-30T16:47:51.034395Z",
     "iopub.status.busy": "2024-12-30T16:47:51.034049Z",
     "iopub.status.idle": "2024-12-30T16:47:51.066298Z",
     "shell.execute_reply": "2024-12-30T16:47:51.065627Z",
     "shell.execute_reply.started": "2024-12-30T16:47:51.034361Z"
    }
   },
   "outputs": [],
   "source": [
    "\n",
    "def standardize_text(data):\n",
    "    data = data.fillna('')  \n",
    "    data = data.apply(lambda x: str(x).lower())  \n",
    "    data = data.apply(lambda x: re.sub(r'\\d+', '', x))  \n",
    "    data = data.apply(lambda x: re.sub(r'.com', '', x, flags=re.MULTILINE)) \n",
    "    data = data.apply(lambda x: x.translate(str.maketrans('', '', string.punctuation)))  \n",
    "    return data\n",
    "\n",
    "\n",
    "df['text_corrected'] = standardize_text(df['text_corrected'])"
   ]
  },
  {
   "cell_type": "code",
   "execution_count": null,
   "metadata": {
    "execution": {
     "iopub.execute_input": "2024-12-30T16:47:51.067846Z",
     "iopub.status.busy": "2024-12-30T16:47:51.067572Z",
     "iopub.status.idle": "2024-12-30T16:48:09.742569Z",
     "shell.execute_reply": "2024-12-30T16:48:09.74191Z",
     "shell.execute_reply.started": "2024-12-30T16:47:51.067807Z"
    }
   },
   "outputs": [],
   "source": [
    "\n",
    "width, height = 100, 100\n",
    "X_images = []\n",
    "\n",
    "for i in tqdm(range(df.shape[0])):\n",
    "    path = '../input/memotion-dataset-7k/memotion_dataset_7k/images/' + df.iloc[i]['image_name']\n",
    "    img = image.load_img(path, target_size=(width, height, 3))\n",
    "    img = image.img_to_array(img) / 255.0\n",
    "    X_images.append(img)\n",
    "\n",
    "X_images = np.array(X_images)\n",
    "y = df['humour_class'].values"
   ]
  },
  {
   "cell_type": "code",
   "execution_count": null,
   "metadata": {
    "execution": {
     "iopub.execute_input": "2024-12-30T16:48:09.744021Z",
     "iopub.status.busy": "2024-12-30T16:48:09.743798Z",
     "iopub.status.idle": "2024-12-30T16:48:12.878092Z",
     "shell.execute_reply": "2024-12-30T16:48:12.877475Z",
     "shell.execute_reply.started": "2024-12-30T16:48:09.744Z"
    }
   },
   "outputs": [],
   "source": [
    "\n",
    "X_train_images, X_test_images, y_train, y_test, X_train_text, X_test_text = train_test_split(\n",
    "    X_images,\n",
    "    y,\n",
    "    df['text_corrected'].values,\n",
    "    test_size=0.2,\n",
    "    stratify=y,\n",
    "    random_state=42\n",
    ")\n",
    "\n",
    "\n",
    "X_train_text = np.array(X_train_text)\n",
    "X_test_text = np.array(X_test_text)\n",
    "\n",
    "\n",
    "vocab_size = 100000\n",
    "sequence_length = 50\n",
    "vectorize_layer = TextVectorization(max_tokens=vocab_size, output_mode='int', output_sequence_length=sequence_length)\n",
    "vectorize_layer.adapt(X_train_text)\n",
    "\n",
    "\n",
    "data_augmentation = Sequential([\n",
    "    RandomFlip('horizontal'),\n",
    "    RandomRotation(0.2),\n",
    "])\n",
    "\n",
    "\n",
    "preprocess_input = Rescaling(1./127.5, offset=-1)\n",
    "\n",
    "\n",
    "base_model_resnet = ResNet50(input_shape=(width, height, 3), include_top=False, weights='imagenet')\n",
    "base_model_resnet.trainable = True\n",
    "\n",
    "for layer in base_model_resnet.layers[:-50]:  # Fine-tune last 50 layers\n",
    "    layer.trainable = False\n",
    "\n",
    "image_input = Input(shape=(width, height, 3), name='image_input')\n",
    "x = data_augmentation(image_input)\n",
    "x = preprocess_input(x)\n",
    "x = base_model_resnet(x, training=True)\n",
    "x = Flatten()(x)\n",
    "x = Dense(128, activation='relu', kernel_regularizer='l2')(x)\n",
    "x = Dropout(0.4)(x)\n",
    "\n",
    "\n",
    "text_input = Input(shape=(None,), dtype=tf.string, name='text_input')\n",
    "y = vectorize_layer(text_input)\n",
    "y = Embedding(vocab_size, 128)(y)  # Reduced embedding dimensions\n",
    "y = Bidirectional(LSTM(64))(y)  # Reduced LSTM capacity\n",
    "y = Flatten()(y)\n",
    "y = Dense(64, activation='relu', kernel_regularizer='l2')(y)\n",
    "y = Dropout(0.4)(y)"
   ]
  },
  {
   "cell_type": "code",
   "execution_count": null,
   "metadata": {
    "execution": {
     "iopub.execute_input": "2024-12-30T16:48:12.879439Z",
     "iopub.status.busy": "2024-12-30T16:48:12.879169Z",
     "iopub.status.idle": "2024-12-30T16:48:12.928196Z",
     "shell.execute_reply": "2024-12-30T16:48:12.927597Z",
     "shell.execute_reply.started": "2024-12-30T16:48:12.879414Z"
    }
   },
   "outputs": [],
   "source": [
    "\n",
    "concatenated = tf.keras.layers.concatenate([x, y])\n",
    "z = Dense(128, activation='relu')(concatenated)\n",
    "z = Dropout(0.5)(z)\n",
    "output = Dense(4, activation='softmax', name='humour_classification')(z)\n",
    "\n",
    "model = Model(inputs=[image_input, text_input], outputs=[output])\n",
    "model.compile(optimizer=Adam(learning_rate=0.0005),\n",
    "              loss='sparse_categorical_crossentropy',\n",
    "              metrics=['accuracy'])\n",
    "\n",
    "\n",
    "class_weights = compute_class_weight(\n",
    "    class_weight='balanced',\n",
    "    classes=np.unique(y_train),\n",
    "    y=y_train\n",
    ")\n",
    "class_weights_dict = {i: weight for i, weight in enumerate(class_weights)}"
   ]
  },
  {
   "cell_type": "code",
   "execution_count": null,
   "metadata": {
    "execution": {
     "iopub.execute_input": "2024-12-30T16:48:12.929686Z",
     "iopub.status.busy": "2024-12-30T16:48:12.92945Z",
     "iopub.status.idle": "2024-12-30T16:48:12.933624Z",
     "shell.execute_reply": "2024-12-30T16:48:12.932857Z",
     "shell.execute_reply.started": "2024-12-30T16:48:12.929663Z"
    }
   },
   "outputs": [],
   "source": [
    "\n",
    "reduce_lr = ReduceLROnPlateau(monitor='val_loss', factor=0.1, patience=5, verbose=1)\n",
    "early_stop = EarlyStopping(monitor='val_loss', patience=10, restore_best_weights=True)\n",
    "checkpoint = ModelCheckpoint('humour_model_best.tf', save_best_only=True, monitor='val_loss', save_format='tf')\n"
   ]
  },
  {
   "cell_type": "code",
   "execution_count": null,
   "metadata": {
    "execution": {
     "iopub.execute_input": "2024-12-30T16:48:12.934904Z",
     "iopub.status.busy": "2024-12-30T16:48:12.934676Z",
     "iopub.status.idle": "2024-12-30T16:48:12.963013Z",
     "shell.execute_reply": "2024-12-30T16:48:12.96212Z",
     "shell.execute_reply.started": "2024-12-30T16:48:12.934883Z"
    }
   },
   "outputs": [],
   "source": [
    "model.summary()"
   ]
  },
  {
   "cell_type": "code",
   "execution_count": null,
   "metadata": {
    "execution": {
     "iopub.execute_input": "2024-12-30T16:48:12.975704Z",
     "iopub.status.busy": "2024-12-30T16:48:12.975447Z",
     "iopub.status.idle": "2024-12-30T16:56:07.46859Z",
     "shell.execute_reply": "2024-12-30T16:56:07.467606Z",
     "shell.execute_reply.started": "2024-12-30T16:48:12.975681Z"
    }
   },
   "outputs": [],
   "source": [
    "\n",
    "history = model.fit(\n",
    "    x={\"image_input\": X_train_images, \"text_input\": X_train_text},\n",
    "    y=y_train,\n",
    "    validation_split=0.2,\n",
    "    epochs=30,  \n",
    "    batch_size=64, \n",
    "    verbose=1,\n",
    "    class_weight=class_weights_dict,\n",
    "    callbacks=[reduce_lr, early_stop, checkpoint]\n",
    ")\n",
    "\n",
    "\n",
    "results = model.evaluate(\n",
    "    x={\"image_input\": X_test_images, \"text_input\": X_test_text},\n",
    "    y=y_test,\n",
    "    batch_size=32,\n",
    "    verbose=1\n",
    ")\n",
    "print(\"Test Accuracy:\", results[1])\n",
    "\n",
    "\n",
    "class_names = ['Sarcastic', 'Humorous', 'Motivational', 'Offensive Meme']\n",
    "\n",
    "def visualize_predictions(images, texts, labels, predictions, class_names):\n",
    "    plt.figure(figsize=(15, 15))\n",
    "    for i in range(min(len(images), 9)):\n",
    "        plt.subplot(3, 3, i + 1)\n",
    "        plt.imshow(images[i])\n",
    "        pred_class = class_names[np.argmax(predictions[i])]\n",
    "        true_class = class_names[labels[i]]\n",
    "        plt.title(f\"Pred: {pred_class}\\nTrue: {true_class}\")\n",
    "        plt.axis('off')\n",
    "    plt.show()\n",
    "\n",
    "\n",
    "predictions = model.predict({\"image_input\": X_test_images[:9], \"text_input\": X_test_text[:9]})\n",
    "visualize_predictions(X_test_images[:9], X_test_text[:9], y_test[:9], predictions, class_names=class_names)"
   ]
  },
  {
   "cell_type": "code",
   "execution_count": null,
   "metadata": {
    "execution": {
     "iopub.execute_input": "2024-12-30T16:56:07.470558Z",
     "iopub.status.busy": "2024-12-30T16:56:07.470213Z",
     "iopub.status.idle": "2024-12-30T16:56:08.040769Z",
     "shell.execute_reply": "2024-12-30T16:56:08.039866Z",
     "shell.execute_reply.started": "2024-12-30T16:56:07.470526Z"
    }
   },
   "outputs": [],
   "source": [
    "from sklearn.metrics import classification_report, confusion_matrix, roc_curve, auc\n",
    "import seaborn as sns\n",
    "from sklearn.preprocessing import label_binarize\n",
    "\n",
    "\n",
    "def print_classification_report(y_true, y_pred, class_names):\n",
    "    report = classification_report(y_true, y_pred, target_names=class_names)\n",
    "    print(\"Classification Report:\\n\")\n",
    "    print(report)\n",
    "\n",
    "\n",
    "y_pred_classes = np.argmax(model.predict({\"image_input\": X_test_images, \"text_input\": X_test_text}), axis=1)\n",
    "print_classification_report(y_test, y_pred_classes, class_names=class_names)"
   ]
  },
  {
   "cell_type": "code",
   "execution_count": null,
   "metadata": {
    "execution": {
     "iopub.execute_input": "2024-12-30T16:56:08.042447Z",
     "iopub.status.busy": "2024-12-30T16:56:08.042078Z",
     "iopub.status.idle": "2024-12-30T16:56:08.403215Z",
     "shell.execute_reply": "2024-12-30T16:56:08.402375Z",
     "shell.execute_reply.started": "2024-12-30T16:56:08.042405Z"
    }
   },
   "outputs": [],
   "source": [
    "\n",
    "plt.figure(figsize=(12, 5))\n",
    "\n",
    "plt.subplot(1, 2, 1)\n",
    "plt.plot(history.history['accuracy'], label='Training Accuracy')\n",
    "plt.plot(history.history['val_accuracy'], label='Validation Accuracy')\n",
    "plt.title('Model Accuracy')\n",
    "plt.xlabel('Epochs')\n",
    "plt.ylabel('Accuracy')\n",
    "plt.legend()\n",
    "\n",
    "\n",
    "plt.subplot(1, 2, 2)\n",
    "plt.plot(history.history['loss'], label='Training Loss')\n",
    "plt.plot(history.history['val_loss'], label='Validation Loss')\n",
    "plt.title('Model Loss')\n",
    "plt.xlabel('Epochs')\n",
    "plt.ylabel('Loss')\n",
    "plt.legend()\n",
    "\n",
    "plt.tight_layout()\n",
    "plt.show()"
   ]
  },
  {
   "cell_type": "code",
   "execution_count": null,
   "metadata": {
    "execution": {
     "iopub.execute_input": "2024-12-30T16:56:08.404763Z",
     "iopub.status.busy": "2024-12-30T16:56:08.404534Z",
     "iopub.status.idle": "2024-12-30T16:56:08.574568Z",
     "shell.execute_reply": "2024-12-30T16:56:08.573837Z",
     "shell.execute_reply.started": "2024-12-30T16:56:08.404741Z"
    }
   },
   "outputs": [],
   "source": [
    "\n",
    "conf_matrix = confusion_matrix(y_test, y_pred_classes)\n",
    "plt.figure(figsize=(8, 6))\n",
    "sns.heatmap(conf_matrix, annot=True, fmt='d', cmap='Blues', xticklabels=class_names, yticklabels=class_names)\n",
    "plt.title('Confusion Matrix')\n",
    "plt.xlabel('Predicted Labels')\n",
    "plt.ylabel('True Labels')\n",
    "plt.show()"
   ]
  },
  {
   "cell_type": "code",
   "execution_count": null,
   "metadata": {
    "execution": {
     "iopub.execute_input": "2024-12-30T16:56:08.575919Z",
     "iopub.status.busy": "2024-12-30T16:56:08.575675Z",
     "iopub.status.idle": "2024-12-30T16:56:09.222389Z",
     "shell.execute_reply": "2024-12-30T16:56:09.221769Z",
     "shell.execute_reply.started": "2024-12-30T16:56:08.575894Z"
    }
   },
   "outputs": [],
   "source": [
    "\n",
    "num_classes = len(class_names)\n",
    "y_test_bin = label_binarize(y_test, classes=range(num_classes))\n",
    "y_pred_bin = model.predict({\"image_input\": X_test_images, \"text_input\": X_test_text})\n",
    "\n",
    "plt.figure(figsize=(10, 8))\n",
    "for i in range(num_classes):\n",
    "    fpr, tpr, _ = roc_curve(y_test_bin[:, i], y_pred_bin[:, i])\n",
    "    roc_auc = auc(fpr, tpr)\n",
    "    plt.plot(fpr, tpr, label=f'{class_names[i]} (AUC = {roc_auc:.2f})')\n",
    "\n",
    "plt.plot([0, 1], [0, 1], 'k--', label='Random Guess')\n",
    "plt.title('ROC Curves')\n",
    "plt.xlabel('False Positive Rate')\n",
    "plt.ylabel('True Positive Rate')\n",
    "plt.legend()\n",
    "plt.show()"
   ]
  },
  {
   "cell_type": "code",
   "execution_count": null,
   "metadata": {
    "execution": {
     "iopub.execute_input": "2024-12-30T16:56:09.224212Z",
     "iopub.status.busy": "2024-12-30T16:56:09.223984Z",
     "iopub.status.idle": "2024-12-30T16:56:09.228975Z",
     "shell.execute_reply": "2024-12-30T16:56:09.228263Z",
     "shell.execute_reply.started": "2024-12-30T16:56:09.224191Z"
    }
   },
   "outputs": [],
   "source": [
    "import os\n",
    "import re\n",
    "import string\n",
    "import numpy as np\n",
    "import pandas as pd\n",
    "import tensorflow as tf\n",
    "from sklearn.model_selection import train_test_split\n",
    "from sklearn.utils.class_weight import compute_class_weight\n",
    "from tensorflow.keras.layers import (Dense, Dropout, Flatten, Embedding, Bidirectional, LSTM, BatchNormalization)\n",
    "from tensorflow.keras.optimizers import Adam\n",
    "from tensorflow.keras.callbacks import ReduceLROnPlateau, EarlyStopping, ModelCheckpoint\n",
    "from tensorflow.keras.layers.experimental.preprocessing import TextVectorization"
   ]
  },
  {
   "cell_type": "code",
   "execution_count": null,
   "metadata": {
    "execution": {
     "iopub.execute_input": "2024-12-30T16:56:09.230245Z",
     "iopub.status.busy": "2024-12-30T16:56:09.230015Z",
     "iopub.status.idle": "2024-12-30T16:56:09.32802Z",
     "shell.execute_reply": "2024-12-30T16:56:09.327253Z",
     "shell.execute_reply.started": "2024-12-30T16:56:09.230223Z"
    }
   },
   "outputs": [],
   "source": [
    "\n",
    "df = pd.read_csv('../input/memotion-dataset-7k/memotion_dataset_7k/labels.csv')\n",
    "df.drop(df.columns[df.columns.str.contains('unnamed', case=False)], axis=1, inplace=True)\n",
    "df = df.replace({\n",
    "    'humour': {'not_funny': 0, 'funny': 1, 'very_funny': 2, 'hilarious': 3},\n",
    "    'sarcasm': {'not_sarcastic': 0, 'general': 1, 'twist': 2},\n",
    "    'offensive': {'not_offensive': 0, 'slightly_offensive': 1, 'very_offensive': 2},\n",
    "    'motivational': {'not_motivational': 0, 'motivational': 1}\n",
    "})\n",
    "\n",
    "\n",
    "for col in ['humour', 'sarcasm', 'motivational', 'offensive']:\n",
    "    df[col] = pd.to_numeric(df[col], errors='coerce')\n",
    "\n",
    "\n",
    "df.dropna(subset=['humour', 'sarcasm', 'motivational', 'offensive'], inplace=True)\n",
    "\n",
    "\n",
    "def assign_class(row):\n",
    "    if row['humour'] > 0:\n",
    "        return 1  # Humorous\n",
    "    elif row['sarcasm'] > 0:\n",
    "        return 0  # Sarcastic\n",
    "    elif row['motivational'] > 0:\n",
    "        return 2  # Motivational\n",
    "    elif row['offensive'] > 0:\n",
    "        return 3  # Offensive Meme\n",
    "    return -1\n",
    "\n",
    "df['text_corrected'] = df['text_corrected'].fillna('')\n",
    "df['class'] = df.apply(assign_class, axis=1)\n",
    "df = df[df['class'] != -1]"
   ]
  },
  {
   "cell_type": "code",
   "execution_count": null,
   "metadata": {
    "execution": {
     "iopub.execute_input": "2024-12-30T16:56:09.329352Z",
     "iopub.status.busy": "2024-12-30T16:56:09.329087Z",
     "iopub.status.idle": "2024-12-30T16:56:09.425365Z",
     "shell.execute_reply": "2024-12-30T16:56:09.424666Z",
     "shell.execute_reply.started": "2024-12-30T16:56:09.329326Z"
    }
   },
   "outputs": [],
   "source": [
    "\n",
    "def standardize_text(data):\n",
    "    data = data.apply(lambda x: str(x).lower())\n",
    "    data = data.apply(lambda x: re.sub(r'\\d+', '', x))\n",
    "    data = data.apply(lambda x: re.sub(r'.com', '', x, flags=re.MULTILINE))\n",
    "    data = data.apply(lambda x: x.translate(str.maketrans('', '', string.punctuation)))\n",
    "    return data\n",
    "\n",
    "df['text_corrected'] = standardize_text(\n",
    "X_train, X_test, y_train, y_test = train_test_split(\n",
    "    df['text_corrected'].values, \n",
    "    df['class'].values, \n",
    "    test_size=0.2, \n",
    "    stratify=df['class'].values, \n",
    "    random_state=42\n",
    ")\n",
    "\n",
    "# Text \n",
    "vocab_size = 20000\n",
    "sequence_length = 100\n",
    "vectorize_layer = TextVectorization(\n",
    "    max_tokens=vocab_size, \n",
    "    output_mode='int', \n",
    "    output_sequence_length=sequence_length\n",
    ")\n",
    "vectorize_layer.adapt(X_train)"
   ]
  },
  {
   "cell_type": "code",
   "execution_count": null,
   "metadata": {
    "execution": {
     "iopub.execute_input": "2024-12-30T16:56:09.427514Z",
     "iopub.status.busy": "2024-12-30T16:56:09.427147Z",
     "iopub.status.idle": "2024-12-30T16:56:10.32868Z",
     "shell.execute_reply": "2024-12-30T16:56:10.328062Z",
     "shell.execute_reply.started": "2024-12-30T16:56:09.42748Z"
    }
   },
   "outputs": [],
   "source": [
    "\n",
    "text_input = tf.keras.Input(shape=(1,), dtype=tf.string, name='text_input')\n",
    "x = vectorize_layer(text_input)\n",
    "x = Embedding(input_dim=vocab_size, output_dim=256)(x)\n",
    "x = Bidirectional(LSTM(128, return_sequences=True))(x)\n",
    "x = BatchNormalization()(x)\n",
    "x = Bidirectional(LSTM(128))(x)\n",
    "x = Dense(256, activation='relu', kernel_regularizer=tf.keras.regularizers.l2(0.01))(x)\n",
    "x = Dropout(0.5)(x)\n",
    "x = Dense(128, activation='relu', kernel_regularizer='l2')(x)\n",
    "x = Dropout(0.5)(x)\n",
    "output = Dense(4, activation='softmax')(x)\n",
    "\n",
    "model = tf.keras.Model(inputs=text_input, outputs=output)\n",
    "model.compile(\n",
    "    optimizer=Adam(learning_rate=0.0001), \n",
    "    loss='sparse_categorical_crossentropy', \n",
    "    metrics=['accuracy']\n",
    ")"
   ]
  },
  {
   "cell_type": "code",
   "execution_count": null,
   "metadata": {
    "execution": {
     "iopub.execute_input": "2024-12-30T16:56:10.330033Z",
     "iopub.status.busy": "2024-12-30T16:56:10.329796Z",
     "iopub.status.idle": "2024-12-30T17:04:20.350182Z",
     "shell.execute_reply": "2024-12-30T17:04:20.349341Z",
     "shell.execute_reply.started": "2024-12-30T16:56:10.33001Z"
    }
   },
   "outputs": [],
   "source": [
    "\n",
    "class_weights = compute_class_weight(\n",
    "    class_weight='balanced',\n",
    "    classes=np.unique(y_train),\n",
    "    y=y_train\n",
    ")\n",
    "class_weights_dict = {i: weight for i, weight in enumerate(class_weights)}\n",
    "\n",
    "\n",
    "reduce_lr = ReduceLROnPlateau(monitor='val_loss', factor=0.2, patience=3, verbose=1)\n",
    "early_stop = EarlyStopping(monitor='val_loss', patience=6, restore_best_weights=True)\n",
    "checkpoint = ModelCheckpoint('text_classification_model_best.tf', save_best_only=True, monitor='val_loss', save_format='tf')\n",
    "\n",
    "\n",
    "history = model.fit(\n",
    "    x=X_train, \n",
    "    y=y_train, \n",
    "    validation_split=0.2, \n",
    "    epochs=40, \n",
    "    batch_size=64, \n",
    "    verbose=1, \n",
    "    class_weight=class_weights_dict, \n",
    "    callbacks=[reduce_lr, early_stop, checkpoint]\n",
    ")"
   ]
  },
  {
   "cell_type": "code",
   "execution_count": null,
   "metadata": {
    "execution": {
     "iopub.execute_input": "2024-12-30T17:04:20.351542Z",
     "iopub.status.busy": "2024-12-30T17:04:20.35132Z",
     "iopub.status.idle": "2024-12-30T17:04:20.904261Z",
     "shell.execute_reply": "2024-12-30T17:04:20.903393Z",
     "shell.execute_reply.started": "2024-12-30T17:04:20.35152Z"
    }
   },
   "outputs": [],
   "source": [
    "\n",
    "results = model.evaluate(x=X_test, y=y_test, batch_size=32, verbose=1)\n",
    "print(\"Test Accuracy:\", results[1])\n",
    "\n",
    "plt.figure(figsize=(12, 5))\n",
    "plt.subplot(1, 2, 1)\n",
    "plt.plot(history.history['accuracy'], label='Training Accuracy')\n",
    "plt.plot(history.history['val_accuracy'], label='Validation Accuracy')\n",
    "plt.title('Model Accuracy')\n",
    "plt.xlabel('Epochs')\n",
    "plt.ylabel('Accuracy')\n",
    "plt.legend()\n",
    "\n",
    "plt.subplot(1, 2, 2)\n",
    "plt.plot(history.history['loss'], label='Training Loss')\n",
    "plt.plot(history.history['val_loss'], label='Validation Loss')\n",
    "plt.title('Model Loss')\n",
    "plt.xlabel('Epochs')\n",
    "plt.ylabel('Loss')\n",
    "plt.legend()\n",
    "\n",
    "plt.tight_layout()\n",
    "plt.show()"
   ]
  },
  {
   "cell_type": "code",
   "execution_count": null,
   "metadata": {
    "execution": {
     "iopub.execute_input": "2024-12-30T17:04:20.906073Z",
     "iopub.status.busy": "2024-12-30T17:04:20.905702Z",
     "iopub.status.idle": "2024-12-30T17:05:05.436041Z",
     "shell.execute_reply": "2024-12-30T17:05:05.435315Z",
     "shell.execute_reply.started": "2024-12-30T17:04:20.906033Z"
    }
   },
   "outputs": [],
   "source": [
    "\n",
    "class_weights = compute_class_weight(\n",
    "    class_weight='balanced',\n",
    "    classes=np.unique(y_train),\n",
    "    y=y_train\n",
    ")\n",
    "class_weights_dict = {i: weight for i, weight in enumerate(class_weights)}\n",
    "\n",
    "\n",
    "reduce_lr = ReduceLROnPlateau(monitor='val_loss', factor=0.1, patience=5, verbose=1)\n",
    "early_stop = EarlyStopping(monitor='val_loss', patience=8, restore_best_weights=True)\n",
    "checkpoint = ModelCheckpoint('text_classification_model_best.tf', save_best_only=True, monitor='val_loss', save_format='tf')\n",
    "\n",
    "\n",
    "history = model.fit(\n",
    "    x=X_train, \n",
    "    y=y_train, \n",
    "    validation_split=0.2, \n",
    "    epochs=40, \n",
    "    batch_size=32, \n",
    "    verbose=1, \n",
    "    class_weight=class_weights_dict, \n",
    "    callbacks=[reduce_lr, early_stop, checkpoint]\n",
    ")"
   ]
  },
  {
   "cell_type": "code",
   "execution_count": null,
   "metadata": {
    "execution": {
     "iopub.execute_input": "2024-12-30T17:05:05.43765Z",
     "iopub.status.busy": "2024-12-30T17:05:05.437344Z",
     "iopub.status.idle": "2024-12-30T17:05:06.797166Z",
     "shell.execute_reply": "2024-12-30T17:05:06.796405Z",
     "shell.execute_reply.started": "2024-12-30T17:05:05.437621Z"
    }
   },
   "outputs": [],
   "source": [
    "\n",
    "results = model.evaluate(x=X_test, y=y_test, batch_size=32, verbose=1)\n",
    "print(\"Test Accuracy:\", results[1])\n",
    "\n",
    "\n",
    "class_names = ['Sarcastic', 'Humorous', 'Motivational', 'Offensive']\n",
    "\n",
    "def visualize_predictions(texts, labels, predictions, class_names):\n",
    "    for i in range(min(len(texts), 5)):\n",
    "        true_class = class_names[labels[i]]\n",
    "        pred_class = class_names[np.argmax(predictions[i])]\n",
    "        print(f\"Text: {texts[i]}\\nTrue: {true_class}, Predicted: {pred_class}\\n\")\n",
    "\n",
    "predictions = model.predict(X_test[:10])\n",
    "visualize_predictions(X_test[:10], y_test[:10], predictions, class_names=class_names)"
   ]
  },
  {
   "cell_type": "code",
   "execution_count": null,
   "metadata": {
    "execution": {
     "iopub.execute_input": "2024-12-30T17:05:06.798554Z",
     "iopub.status.busy": "2024-12-30T17:05:06.798315Z",
     "iopub.status.idle": "2024-12-30T17:05:08.67764Z",
     "shell.execute_reply": "2024-12-30T17:05:08.676812Z",
     "shell.execute_reply.started": "2024-12-30T17:05:06.79853Z"
    }
   },
   "outputs": [],
   "source": [
    "from sklearn.metrics import classification_report\n",
    "\n",
    "def print_classification_report(y_true, y_pred, class_names):\n",
    "    report = classification_report(y_true, y_pred, target_names=class_names)\n",
    "    print(\"Classification Report:\\n\")\n",
    "    print(report)\n",
    "\n",
    "\n",
    "\n",
    "y_pred_probs = model.predict({\"text_input\": X_test_text, \"image_input\": np.zeros((len(X_test_text), 224, 224, 3))})\n",
    "y_pred = np.argmax(y_pred_probs, axis=1)  \n",
    "print_classification_report(y_test, y_pred, class_names=['Sarcastic', 'Humorous', 'Motivational', 'Offensive'])"
   ]
  },
  {
   "cell_type": "code",
   "execution_count": null,
   "metadata": {
    "execution": {
     "iopub.execute_input": "2024-12-30T17:05:08.678891Z",
     "iopub.status.busy": "2024-12-30T17:05:08.678671Z",
     "iopub.status.idle": "2024-12-30T17:05:10.074462Z",
     "shell.execute_reply": "2024-12-30T17:05:10.073543Z",
     "shell.execute_reply.started": "2024-12-30T17:05:08.678869Z"
    }
   },
   "outputs": [],
   "source": [
    "\n",
    "def plot_roc_curve(y_true, y_pred_proba, class_names):\n",
    "    plt.figure(figsize=(10, 8))\n",
    "    for i in range(len(class_names)):\n",
    "        fpr, tpr, _ = roc_curve(y_true == i, y_pred_proba[:, i])\n",
    "        roc_auc = auc(fpr, tpr)\n",
    "        plt.plot(fpr, tpr, label=f'{class_names[i]} (AUC = {roc_auc:.2f})')\n",
    "    plt.plot([0, 1], [0, 1], 'k--', lw=2)\n",
    "    plt.xlim([0.0, 1.0])\n",
    "    plt.ylim([0.0, 1.05])\n",
    "    plt.xlabel('False Positive Rate')\n",
    "    plt.ylabel('True Positive Rate')\n",
    "    plt.title('ROC Curve')\n",
    "    plt.legend(loc=\"lower right\")\n",
    "    plt.show()\n",
    "\n",
    "\n",
    "y_pred_proba = model.predict({\"text_input\": X_test_text})\n",
    "plot_roc_curve(y_test, y_pred_proba, class_names=['Sarcastic', 'Humorous', 'Motivational', 'Offensive'])"
   ]
  },
  {
   "cell_type": "code",
   "execution_count": 32,
   "metadata": {
    "execution": {
     "iopub.execute_input": "2024-12-30T18:58:43.323642Z",
     "iopub.status.busy": "2024-12-30T18:58:43.323325Z",
     "iopub.status.idle": "2024-12-30T18:58:43.566070Z",
     "shell.execute_reply": "2024-12-30T18:58:43.565504Z",
     "shell.execute_reply.started": "2024-12-30T18:58:43.323617Z"
    }
   },
   "outputs": [],
   "source": [
    "import os\n",
    "import numpy as np\n",
    "import pandas as pd\n",
    "import tensorflow as tf\n",
    "from tensorflow.keras.layers import Dense, Dropout, Flatten, GlobalAveragePooling2D\n",
    "from tensorflow.keras.applications import MobileNetV2\n",
    "from tensorflow.keras.optimizers import Adam\n",
    "from tensorflow.keras.models import Model\n",
    "from tensorflow.keras.callbacks import ReduceLROnPlateau, EarlyStopping, ModelCheckpoint\n",
    "import matplotlib.pyplot as plt\n",
    "from sklearn.model_selection import train_test_split\n",
    "from sklearn.utils.class_weight import compute_class_weight\n",
    "from sklearn.metrics import classification_report, confusion_matrix, roc_curve, auc\n",
    "import seaborn as sns"
   ]
  },
  {
   "cell_type": "code",
   "execution_count": 33,
   "metadata": {
    "execution": {
     "iopub.execute_input": "2024-12-30T18:59:11.843388Z",
     "iopub.status.busy": "2024-12-30T18:59:11.843043Z",
     "iopub.status.idle": "2024-12-30T18:59:11.908617Z",
     "shell.execute_reply": "2024-12-30T18:59:11.907908Z",
     "shell.execute_reply.started": "2024-12-30T18:59:11.843354Z"
    }
   },
   "outputs": [],
   "source": [
    "\n",
    "df = pd.read_csv('../input/memotion-dataset-7k/memotion_dataset_7k/labels.csv')\n",
    "df.drop(df.columns[df.columns.str.contains('unnamed', case=False)], axis=1, inplace=True)\n",
    "df = df.replace({\n",
    "    'humour': {'not_funny': 0, 'funny': 1, 'very_funny': 2, 'hilarious': 3},\n",
    "    'sarcasm': {'not_sarcastic': 0, 'general': 1, 'twist': 2},\n",
    "    'offensive': {'not_offensive': 0, 'slightly_offensive': 1, 'very_offensive': 2},\n",
    "    'motivational': {'not_motivational': 0, 'motivational': 1}\n",
    "})\n",
    "\n",
    "\n",
    "for col in ['humour', 'sarcasm', 'motivational', 'offensive']:\n",
    "    df[col] = pd.to_numeric(df[col], errors='coerce')\n",
    "\n",
    "\n",
    "df.dropna(subset=['humour', 'sarcasm', 'motivational', 'offensive'], inplace=True)"
   ]
  },
  {
   "cell_type": "code",
   "execution_count": 34,
   "metadata": {
    "execution": {
     "iopub.execute_input": "2024-12-30T18:59:21.963021Z",
     "iopub.status.busy": "2024-12-30T18:59:21.962705Z",
     "iopub.status.idle": "2024-12-30T18:59:22.006037Z",
     "shell.execute_reply": "2024-12-30T18:59:22.005364Z",
     "shell.execute_reply.started": "2024-12-30T18:59:21.962992Z"
    }
   },
   "outputs": [],
   "source": [
    "\n",
    "def assign_class(row):\n",
    "    if row['humour'] > 0:\n",
    "        return 1  # Humorous\n",
    "    elif row['sarcasm'] > 0:\n",
    "        return 0  # Sarcastic\n",
    "    elif row['motivational'] > 0:\n",
    "        return 2  # Motivational\n",
    "    elif row['offensive'] > 0:\n",
    "        return 3  # Offensive Meme\n",
    "    return -1\n",
    "\n",
    "df['class'] = df.apply(assign_class, axis=1)\n",
    "df = df[df['class'] != -1]"
   ]
  },
  {
   "cell_type": "code",
   "execution_count": 35,
   "metadata": {
    "execution": {
     "iopub.execute_input": "2024-12-30T18:59:26.870256Z",
     "iopub.status.busy": "2024-12-30T18:59:26.869953Z",
     "iopub.status.idle": "2024-12-30T18:59:47.832335Z",
     "shell.execute_reply": "2024-12-30T18:59:47.831499Z",
     "shell.execute_reply.started": "2024-12-30T18:59:26.870225Z"
    }
   },
   "outputs": [
    {
     "name": "stderr",
     "output_type": "stream",
     "text": [
      "/opt/conda/lib/python3.7/site-packages/PIL/TiffImagePlugin.py:785: UserWarning: Corrupt EXIF data.  Expecting to read 2 bytes but only got 0. \n",
      "  warnings.warn(str(msg))\n",
      "/opt/conda/lib/python3.7/site-packages/PIL/Image.py:961: UserWarning: Palette images with Transparency expressed in bytes should be converted to RGBA images\n",
      "  \"Palette images with Transparency expressed in bytes should be \"\n"
     ]
    }
   ],
   "source": [
    "\n",
    "image_size = (224, 224)\n",
    "X_images = []\n",
    "for img_name in df['image_name']:\n",
    "    img_path = f\"../input/memotion-dataset-7k/memotion_dataset_7k/images/{img_name}\"\n",
    "    img = tf.keras.preprocessing.image.load_img(img_path, target_size=image_size)\n",
    "    img_array = tf.keras.preprocessing.image.img_to_array(img) / 255.0\n",
    "    X_images.append(img_array)\n",
    "\n",
    "X_images = np.array(X_images)\n",
    "y = df['class'].values"
   ]
  },
  {
   "cell_type": "code",
   "execution_count": 36,
   "metadata": {
    "execution": {
     "iopub.execute_input": "2024-12-30T18:59:53.760773Z",
     "iopub.status.busy": "2024-12-30T18:59:53.760462Z",
     "iopub.status.idle": "2024-12-30T18:59:54.118670Z",
     "shell.execute_reply": "2024-12-30T18:59:54.118007Z",
     "shell.execute_reply.started": "2024-12-30T18:59:53.760746Z"
    }
   },
   "outputs": [],
   "source": [
    "\n",
    "X_train, X_test, y_train, y_test = train_test_split(X_images, y, test_size=0.2, stratify=y, random_state=42)"
   ]
  },
  {
   "cell_type": "code",
   "execution_count": 37,
   "metadata": {
    "execution": {
     "iopub.execute_input": "2024-12-30T18:59:58.468076Z",
     "iopub.status.busy": "2024-12-30T18:59:58.467755Z",
     "iopub.status.idle": "2024-12-30T19:00:00.448992Z",
     "shell.execute_reply": "2024-12-30T19:00:00.448192Z",
     "shell.execute_reply.started": "2024-12-30T18:59:58.468044Z"
    }
   },
   "outputs": [
    {
     "name": "stdout",
     "output_type": "stream",
     "text": [
      "Downloading data from https://storage.googleapis.com/tensorflow/keras-applications/mobilenet_v2/mobilenet_v2_weights_tf_dim_ordering_tf_kernels_1.0_224_no_top.h5\n",
      "9412608/9406464 [==============================] - 0s 0us/step\n"
     ]
    }
   ],
   "source": [
    "\n",
    "base_model = MobileNetV2(input_shape=(224, 224, 3), include_top=False, weights='imagenet')\n",
    "base_model.trainable = False  \n",
    "\n",
    "image_input = tf.keras.Input(shape=(224, 224, 3), name='image_input')\n",
    "x = base_model(image_input, training=False)\n",
    "x = GlobalAveragePooling2D()(x)\n",
    "x = Flatten()(x)\n",
    "x = Dense(128, activation='relu')(x)\n",
    "x = Dropout(0.5)(x)\n",
    "output = Dense(4, activation='softmax')(x)\n",
    "\n",
    "model = Model(inputs=image_input, outputs=output)\n",
    "\n",
    "model.compile(\n",
    "    optimizer=Adam(learning_rate=0.0001),\n",
    "    loss='sparse_categorical_crossentropy',\n",
    "    metrics=['accuracy']\n",
    ")\n"
   ]
  },
  {
   "cell_type": "code",
   "execution_count": 38,
   "metadata": {
    "execution": {
     "iopub.execute_input": "2024-12-30T19:00:06.289015Z",
     "iopub.status.busy": "2024-12-30T19:00:06.288698Z",
     "iopub.status.idle": "2024-12-30T19:06:55.932698Z",
     "shell.execute_reply": "2024-12-30T19:06:55.931894Z",
     "shell.execute_reply.started": "2024-12-30T19:00:06.288983Z"
    }
   },
   "outputs": [
    {
     "name": "stdout",
     "output_type": "stream",
     "text": [
      "Epoch 1/40\n",
      "53/53 [==============================] - 25s 463ms/step - loss: 1.6520 - accuracy: 0.3335 - val_loss: 1.4204 - val_accuracy: 0.2979\n",
      "Epoch 2/40\n",
      "53/53 [==============================] - 23s 439ms/step - loss: 1.4257 - accuracy: 0.3270 - val_loss: 1.2787 - val_accuracy: 0.4161\n",
      "Epoch 3/40\n",
      "53/53 [==============================] - 24s 448ms/step - loss: 1.3355 - accuracy: 0.3264 - val_loss: 1.2573 - val_accuracy: 0.3759\n",
      "Epoch 4/40\n",
      "53/53 [==============================] - 24s 448ms/step - loss: 1.2392 - accuracy: 0.3619 - val_loss: 1.2378 - val_accuracy: 0.4232\n",
      "Epoch 5/40\n",
      "53/53 [==============================] - 3s 50ms/step - loss: 1.1777 - accuracy: 0.3885 - val_loss: 1.2992 - val_accuracy: 0.3688\n",
      "Epoch 6/40\n",
      "53/53 [==============================] - 3s 49ms/step - loss: 1.1458 - accuracy: 0.3530 - val_loss: 1.3249 - val_accuracy: 0.3168\n",
      "Epoch 7/40\n",
      "53/53 [==============================] - ETA: 0s - loss: 1.0693 - accuracy: 0.3525\n",
      "Epoch 00007: ReduceLROnPlateau reducing learning rate to 1.9999999494757503e-05.\n",
      "53/53 [==============================] - 3s 49ms/step - loss: 1.0693 - accuracy: 0.3525 - val_loss: 1.2907 - val_accuracy: 0.3262\n",
      "Epoch 8/40\n",
      "53/53 [==============================] - 3s 49ms/step - loss: 1.0523 - accuracy: 0.3974 - val_loss: 1.2514 - val_accuracy: 0.3806\n",
      "Epoch 9/40\n",
      "53/53 [==============================] - 24s 449ms/step - loss: 1.0000 - accuracy: 0.4027 - val_loss: 1.2261 - val_accuracy: 0.4184\n",
      "Epoch 10/40\n",
      "53/53 [==============================] - 24s 450ms/step - loss: 0.9819 - accuracy: 0.4305 - val_loss: 1.2010 - val_accuracy: 0.4539\n",
      "Epoch 11/40\n",
      "53/53 [==============================] - 24s 446ms/step - loss: 0.9548 - accuracy: 0.4565 - val_loss: 1.1805 - val_accuracy: 0.4775\n",
      "Epoch 12/40\n",
      "53/53 [==============================] - 24s 447ms/step - loss: 0.9448 - accuracy: 0.4796 - val_loss: 1.1769 - val_accuracy: 0.4775\n",
      "Epoch 13/40\n",
      "53/53 [==============================] - 3s 50ms/step - loss: 0.9698 - accuracy: 0.4571 - val_loss: 1.1851 - val_accuracy: 0.4657\n",
      "Epoch 14/40\n",
      "53/53 [==============================] - 25s 479ms/step - loss: 0.9818 - accuracy: 0.4548 - val_loss: 1.1731 - val_accuracy: 0.4752\n",
      "Epoch 15/40\n",
      "53/53 [==============================] - 3s 50ms/step - loss: 0.9791 - accuracy: 0.4678 - val_loss: 1.1784 - val_accuracy: 0.4704\n",
      "Epoch 16/40\n",
      "53/53 [==============================] - 24s 461ms/step - loss: 0.9502 - accuracy: 0.4636 - val_loss: 1.1724 - val_accuracy: 0.4846\n",
      "Epoch 17/40\n",
      "53/53 [==============================] - 24s 447ms/step - loss: 0.8927 - accuracy: 0.4755 - val_loss: 1.1704 - val_accuracy: 0.4799\n",
      "Epoch 18/40\n",
      "53/53 [==============================] - 24s 451ms/step - loss: 0.9217 - accuracy: 0.4737 - val_loss: 1.1564 - val_accuracy: 0.4965\n",
      "Epoch 19/40\n",
      "53/53 [==============================] - 3s 50ms/step - loss: 0.9127 - accuracy: 0.4636 - val_loss: 1.1576 - val_accuracy: 0.4846\n",
      "Epoch 20/40\n",
      "53/53 [==============================] - 3s 49ms/step - loss: 0.8935 - accuracy: 0.5027 - val_loss: 1.1730 - val_accuracy: 0.4681\n",
      "Epoch 21/40\n",
      "53/53 [==============================] - 24s 452ms/step - loss: 0.8894 - accuracy: 0.4826 - val_loss: 1.1493 - val_accuracy: 0.4965\n",
      "Epoch 22/40\n",
      "53/53 [==============================] - 3s 50ms/step - loss: 0.9077 - accuracy: 0.5074 - val_loss: 1.1500 - val_accuracy: 0.4870\n",
      "Epoch 23/40\n",
      "53/53 [==============================] - 24s 446ms/step - loss: 0.9262 - accuracy: 0.4944 - val_loss: 1.1467 - val_accuracy: 0.5012\n",
      "Epoch 24/40\n",
      "53/53 [==============================] - 24s 452ms/step - loss: 0.8716 - accuracy: 0.5257 - val_loss: 1.1289 - val_accuracy: 0.4988\n",
      "Epoch 25/40\n",
      "53/53 [==============================] - 3s 50ms/step - loss: 0.8860 - accuracy: 0.5198 - val_loss: 1.1417 - val_accuracy: 0.4894\n",
      "Epoch 26/40\n",
      "53/53 [==============================] - 3s 50ms/step - loss: 0.9205 - accuracy: 0.4885 - val_loss: 1.1409 - val_accuracy: 0.5012\n",
      "Epoch 27/40\n",
      "53/53 [==============================] - ETA: 0s - loss: 0.8778 - accuracy: 0.4944\n",
      "Epoch 00027: ReduceLROnPlateau reducing learning rate to 3.999999898951501e-06.\n",
      "53/53 [==============================] - 3s 50ms/step - loss: 0.8778 - accuracy: 0.4944 - val_loss: 1.1476 - val_accuracy: 0.4846\n",
      "Epoch 28/40\n",
      "53/53 [==============================] - 3s 50ms/step - loss: 0.8403 - accuracy: 0.5062 - val_loss: 1.1394 - val_accuracy: 0.4846\n",
      "Epoch 29/40\n",
      "53/53 [==============================] - 3s 51ms/step - loss: 0.8305 - accuracy: 0.4914 - val_loss: 1.1376 - val_accuracy: 0.4846\n",
      "Epoch 30/40\n",
      "53/53 [==============================] - ETA: 0s - loss: 0.8274 - accuracy: 0.5086\n",
      "Epoch 00030: ReduceLROnPlateau reducing learning rate to 7.999999979801942e-07.\n",
      "53/53 [==============================] - 3s 50ms/step - loss: 0.8274 - accuracy: 0.5086 - val_loss: 1.1360 - val_accuracy: 0.4894\n",
      "Epoch 31/40\n",
      "53/53 [==============================] - 3s 51ms/step - loss: 0.8814 - accuracy: 0.5169 - val_loss: 1.1351 - val_accuracy: 0.4917\n",
      "Epoch 32/40\n",
      "53/53 [==============================] - 3s 52ms/step - loss: 0.8546 - accuracy: 0.4962 - val_loss: 1.1344 - val_accuracy: 0.4917\n"
     ]
    }
   ],
   "source": [
    "\n",
    "class_weights = compute_class_weight(\n",
    "    class_weight='balanced',\n",
    "    classes=np.unique(y_train),\n",
    "    y=y_train\n",
    ")\n",
    "class_weights_dict = {i: weight for i, weight in enumerate(class_weights)}\n",
    "\n",
    "\n",
    "reduce_lr = ReduceLROnPlateau(monitor='val_loss', factor=0.2, patience=3, verbose=1)\n",
    "early_stop = EarlyStopping(monitor='val_loss', patience=8, restore_best_weights=True)\n",
    "checkpoint = ModelCheckpoint('mobilenetv2_image_classification_best.tf', save_best_only=True, monitor='val_loss', save_format='tf')\n",
    "\n",
    "\n",
    "history = model.fit(\n",
    "    x=X_train,\n",
    "    y=y_train,\n",
    "    validation_split=0.2,\n",
    "    epochs=40,\n",
    "    batch_size=32,\n",
    "    verbose=1,\n",
    "    class_weight=class_weights_dict,\n",
    "    callbacks=[reduce_lr, early_stop, checkpoint]\n",
    ")"
   ]
  },
  {
   "cell_type": "code",
   "execution_count": 39,
   "metadata": {
    "execution": {
     "iopub.execute_input": "2024-12-30T19:17:23.334544Z",
     "iopub.status.busy": "2024-12-30T19:17:23.334140Z",
     "iopub.status.idle": "2024-12-30T19:17:24.842045Z",
     "shell.execute_reply": "2024-12-30T19:17:24.841296Z",
     "shell.execute_reply.started": "2024-12-30T19:17:23.334509Z"
    }
   },
   "outputs": [
    {
     "name": "stdout",
     "output_type": "stream",
     "text": [
      "9/9 [==============================] - 1s 81ms/step - loss: 1.1148 - accuracy: 0.4839\n",
      "Test Accuracy: 0.4839319586753845\n"
     ]
    }
   ],
   "source": [
    "\n",
    "results = model.evaluate(x=X_test, y=y_test, batch_size=64, verbose=1)\n",
    "print(\"Test Accuracy:\", results[1])"
   ]
  },
  {
   "cell_type": "code",
   "execution_count": 40,
   "metadata": {
    "execution": {
     "iopub.execute_input": "2024-12-30T19:18:44.053453Z",
     "iopub.status.busy": "2024-12-30T19:18:44.053112Z",
     "iopub.status.idle": "2024-12-30T19:18:44.474566Z",
     "shell.execute_reply": "2024-12-30T19:18:44.473759Z",
     "shell.execute_reply.started": "2024-12-30T19:18:44.053422Z"
    }
   },
   "outputs": [
    {
     "data": {
      "image/png": "[encoded data removed]",
      "text/plain": [
       "<Figure size 864x360 with 2 Axes>"
      ]
     },
     "metadata": {
      "needs_background": "light"
     },
     "output_type": "display_data"
    }
   ],
   "source": [
    "\n",
    "plt.figure(figsize=(12, 5))\n",
    "plt.subplot(1, 2, 1)\n",
    "plt.plot(history.history['accuracy'], label='Training Accuracy')\n",
    "plt.plot(history.history['val_accuracy'], label='Validation Accuracy')\n",
    "plt.title('Model Accuracy')\n",
    "plt.xlabel('Epochs')\n",
    "plt.ylabel('Accuracy')\n",
    "plt.legend()\n",
    "\n",
    "plt.subplot(1, 2, 2)\n",
    "plt.plot(history.history['loss'], label='Training Loss')\n",
    "plt.plot(history.history['val_loss'], label='Validation Loss')\n",
    "plt.title('Model Loss')\n",
    "plt.xlabel('Epochs')\n",
    "plt.ylabel('Loss')\n",
    "plt.legend()\n",
    "\n",
    "plt.tight_layout()\n",
    "plt.show()"
   ]
  },
  {
   "cell_type": "code",
   "execution_count": 41,
   "metadata": {
    "execution": {
     "iopub.execute_input": "2024-12-30T19:18:55.420979Z",
     "iopub.status.busy": "2024-12-30T19:18:55.420681Z",
     "iopub.status.idle": "2024-12-30T19:18:57.348793Z",
     "shell.execute_reply": "2024-12-30T19:18:57.347996Z",
     "shell.execute_reply.started": "2024-12-30T19:18:55.420954Z"
    }
   },
   "outputs": [
    {
     "data": {
      "image/png": "[encoded data removed]",
      "text/plain": [
       "<Figure size 576x432 with 2 Axes>"
      ]
     },
     "metadata": {
      "needs_background": "light"
     },
     "output_type": "display_data"
    }
   ],
   "source": [
    "\n",
    "y_pred = np.argmax(model.predict(X_test), axis=1)\n",
    "conf_matrix = confusion_matrix(y_test, y_pred)\n",
    "plt.figure(figsize=(8, 6))\n",
    "sns.heatmap(conf_matrix, annot=True, fmt='d', cmap='Blues', xticklabels=['Sarcastic', 'Humorous', 'Motivational', 'Offensive'], yticklabels=['Sarcastic', 'Humorous', 'Motivational', 'Offensive'])\n",
    "plt.title('Confusion Matrix')\n",
    "plt.xlabel('Predicted Labels')\n",
    "plt.ylabel('True Labels')\n",
    "plt.show()"
   ]
  },
  {
   "cell_type": "code",
   "execution_count": 42,
   "metadata": {
    "execution": {
     "iopub.execute_input": "2024-12-30T19:19:29.296982Z",
     "iopub.status.busy": "2024-12-30T19:19:29.296619Z",
     "iopub.status.idle": "2024-12-30T19:19:29.306098Z",
     "shell.execute_reply": "2024-12-30T19:19:29.305444Z",
     "shell.execute_reply.started": "2024-12-30T19:19:29.296951Z"
    }
   },
   "outputs": [
    {
     "name": "stdout",
     "output_type": "stream",
     "text": [
      "Classification Report:\n",
      "              precision    recall  f1-score   support\n",
      "\n",
      "   Sarcastic       0.12      0.36      0.18        59\n",
      "    Humorous       0.88      0.53      0.66       441\n",
      "Motivational       0.04      0.12      0.06        24\n",
      "   Offensive       0.00      0.00      0.00         5\n",
      "\n",
      "    accuracy                           0.48       529\n",
      "   macro avg       0.26      0.25      0.22       529\n",
      "weighted avg       0.75      0.48      0.57       529\n",
      "\n"
     ]
    }
   ],
   "source": [
    "\n",
    "print(\"Classification Report:\")\n",
    "print(classification_report(y_test, y_pred, target_names=['Sarcastic', 'Humorous', 'Motivational', 'Offensive']))"
   ]
  },
  {
   "cell_type": "code",
   "execution_count": 43,
   "metadata": {
    "execution": {
     "iopub.execute_input": "2024-12-30T19:19:38.315613Z",
     "iopub.status.busy": "2024-12-30T19:19:38.315278Z",
     "iopub.status.idle": "2024-12-30T19:19:39.487056Z",
     "shell.execute_reply": "2024-12-30T19:19:39.486353Z",
     "shell.execute_reply.started": "2024-12-30T19:19:38.315586Z"
    }
   },
   "outputs": [
    {
     "data": {
      "image/png": "[encoded data removed]",
      "text/plain": [
       "<Figure size 720x576 with 1 Axes>"
      ]
     },
     "metadata": {
      "needs_background": "light"
     },
     "output_type": "display_data"
    }
   ],
   "source": [
    "\n",
    "y_test_bin = tf.keras.utils.to_categorical(y_test, num_classes=4)\n",
    "y_pred_probs = model.predict(X_test)\n",
    "\n",
    "plt.figure(figsize=(10, 8))\n",
    "for i in range(4):\n",
    "    fpr, tpr, _ = roc_curve(y_test_bin[:, i], y_pred_probs[:, i])\n",
    "    roc_auc = auc(fpr, tpr)\n",
    "    plt.plot(fpr, tpr, label=f'{[\"Sarcastic\", \"Humorous\", \"Motivational\", \"Offensive\"][i]} (AUC = {roc_auc:.2f})')\n",
    "\n",
    "plt.plot([0, 1], [0, 1], 'k--', label='Random Guess')\n",
    "plt.title('ROC Curve')\n",
    "plt.xlabel('False Positive Rate')\n",
    "plt.ylabel('True Positive Rate')\n",
    "plt.legend()\n",
    "plt.show()"
   ]
  },
  {
   "cell_type": "code",
   "execution_count": 62,
   "metadata": {
    "execution": {
     "iopub.execute_input": "2024-12-30T19:35:48.361595Z",
     "iopub.status.busy": "2024-12-30T19:35:48.361185Z",
     "iopub.status.idle": "2024-12-30T19:36:53.858213Z",
     "shell.execute_reply": "2024-12-30T19:36:53.857503Z",
     "shell.execute_reply.started": "2024-12-30T19:35:48.361557Z"
    }
   },
   "outputs": [
    {
     "name": "stderr",
     "output_type": "stream",
     "text": [
      "/opt/conda/lib/python3.7/site-packages/PIL/TiffImagePlugin.py:785: UserWarning: Corrupt EXIF data.  Expecting to read 2 bytes but only got 0. \n",
      "  warnings.warn(str(msg))\n",
      "/opt/conda/lib/python3.7/site-packages/PIL/Image.py:961: UserWarning: Palette images with Transparency expressed in bytes should be converted to RGBA images\n",
      "  \"Palette images with Transparency expressed in bytes should be \"\n"
     ]
    },
    {
     "name": "stdout",
     "output_type": "stream",
     "text": [
      "Accuracy: 0.625585023400936\n",
      "Classification Report:\n",
      "               precision    recall  f1-score   support\n",
      "\n",
      "           0       0.09      0.13      0.11       121\n",
      "           1       0.83      0.73      0.77      1069\n",
      "           2       0.05      0.07      0.06        55\n",
      "           3       0.03      0.08      0.05        37\n",
      "\n",
      "    accuracy                           0.63      1282\n",
      "   macro avg       0.25      0.25      0.25      1282\n",
      "weighted avg       0.70      0.63      0.66      1282\n",
      "\n",
      "Confusion Matrix:\n",
      " [[ 16  92   8   5]\n",
      " [149 779  61  80]\n",
      " [  6  42   4   3]\n",
      " [  4  29   1   3]]\n"
     ]
    },
    {
     "data": {
      "image/png": "[encoded data removed]",
      "text/plain": [
       "<Figure size 576x432 with 2 Axes>"
      ]
     },
     "metadata": {
      "needs_background": "light"
     },
     "output_type": "display_data"
    }
   ],
   "source": [
    "import os\n",
    "import re\n",
    "import string\n",
    "import numpy as np\n",
    "import pandas as pd\n",
    "from sklearn.model_selection import train_test_split\n",
    "from sklearn.feature_extraction.text import TfidfVectorizer\n",
    "from sklearn.naive_bayes import GaussianNB\n",
    "from sklearn.metrics import classification_report, confusion_matrix, accuracy_score\n",
    "import tensorflow as tf\n",
    "from tensorflow.keras.applications import MobileNetV2\n",
    "from tensorflow.keras.preprocessing import image\n",
    "from tensorflow.keras.layers.experimental.preprocessing import TextVectorization\n",
    "\n",
    "\n",
    "df = pd.read_csv('../input/memotion-dataset-7k/memotion_dataset_7k/labels.csv')\n",
    "df.drop(df.columns[df.columns.str.contains('unnamed', case=False)], axis=1, inplace=True)\n",
    "df = df.replace({\n",
    "    'humour': {'not_funny': 0, 'funny': 1, 'very_funny': 2, 'hilarious': 3},\n",
    "    'sarcasm': {'not_sarcastic': 0, 'general': 1, 'twist': 2},\n",
    "    'offensive': {'not_offensive': 0, 'slightly_offensive': 1, 'very_offensive': 2},\n",
    "    'motivational': {'not_motivational': 0, 'motivational': 1}\n",
    "})\n",
    "\n",
    "\n",
    "for col in ['humour', 'sarcasm', 'motivational', 'offensive']:\n",
    "    df[col] = pd.to_numeric(df[col], errors='coerce')\n",
    "\n",
    "def assign_class(row):\n",
    "    if row['humour'] > 0:\n",
    "        return 1  \n",
    "    elif row['sarcasm'] > 0:\n",
    "        return 0  \n",
    "    elif row['motivational'] > 0:\n",
    "        return 2  \n",
    "    elif row['offensive'] > 0:\n",
    "        return 3  \n",
    "    return -1\n",
    "\n",
    "\n",
    "df['class'] = df.apply(assign_class, axis=1)\n",
    "df = df[df['class'] != -1]\n",
    "\n",
    "def standardize_text(data):\n",
    "    data = data.apply(lambda x: str(x).lower())\n",
    "    data = data.apply(lambda x: re.sub(r'\\d+', '', x))\n",
    "    data = data.apply(lambda x: re.sub(r'.com', '', x, flags=re.MULTILINE))\n",
    "    data = data.apply(lambda x: x.translate(str.maketrans('', '', string.punctuation)))\n",
    "    return data\n",
    "\n",
    "df['text_corrected'] = df['text_corrected'].fillna('')\n",
    "df['text_corrected'] = standardize_text(df['text_corrected'])\n",
    "\n",
    "\n",
    "image_size = (224, 224)\n",
    "X_images = []\n",
    "for img_name in df['image_name']:\n",
    "    img_path = f\"../input/memotion-dataset-7k/memotion_dataset_7k/images/{img_name}\"\n",
    "    img = tf.keras.preprocessing.image.load_img(img_path, target_size=image_size)\n",
    "    img_array = tf.keras.preprocessing.image.img_to_array(img) / 255.0\n",
    "    X_images.append(img_array)\n",
    "\n",
    "X_images = np.array(X_images)\n",
    "\n",
    "\n",
    "base_model = MobileNetV2(input_shape=(224, 224, 3), include_top=False, weights='imagenet', pooling='avg')\n",
    "image_features = base_model.predict(X_images)\n",
    "\n",
    "\n",
    "tfidf_vectorizer = TfidfVectorizer(max_features=5000)\n",
    "text_features = tfidf_vectorizer.fit_transform(df['text_corrected']).toarray()\n",
    "\n",
    "\n",
    "combined_features = np.hstack([image_features, text_features])\n",
    "\n",
    "# Train-test split\n",
    "X_train, X_test, y_train, y_test = train_test_split(\n",
    "    combined_features, \n",
    "    df['class'].values, \n",
    "    test_size=0.2, \n",
    "    stratify=df['class'], \n",
    "    random_state=42\n",
    ")\n",
    "\n",
    "\n",
    "gnb = GaussianNB()\n",
    "gnb.fit(X_train, y_train)\n",
    "\n",
    "\n",
    "y_pred = gnb.predict(X_test)\n",
    "\n",
    "\n",
    "print(\"Accuracy:\", accuracy_score(y_test, y_pred))\n",
    "print(\"Classification Report:\\n\", classification_report(y_test, y_pred))\n",
    "cm = confusion_matrix(y_test, y_pred)\n",
    "print(\"Confusion Matrix:\\n\", cm)\n",
    "\n",
    "\n",
    "import seaborn as sns\n",
    "import matplotlib.pyplot as plt\n",
    "\n",
    "plt.figure(figsize=(8, 6))\n",
    "sns.heatmap(cm, annot=True, fmt='d', cmap='Blues', xticklabels=['Sarcastic', 'Humorous', 'Motivational', 'Offensive'], yticklabels=['Sarcastic', 'Humorous', 'Motivational', 'Offensive'])\n",
    "plt.title(\"Confusion Matrix\")\n",
    "plt.xlabel(\"Predicted\")\n",
    "plt.ylabel(\"True\")\n",
    "plt.show()"
   ]
  }
 ],
 "metadata": {
  "kaggle": {
   "accelerator": "gpu",
   "dataSources": [
    {
     "datasetId": 531544,
     "sourceId": 973292,
     "sourceType": "datasetVersion"
    }
   ],
   "dockerImageVersionId": 30015,
   "isGpuEnabled": true,
   "isInternetEnabled": true,
   "language": "python",
   "sourceType": "notebook"
  },
  "kernelspec": {
   "display_name": "Python 3 (ipykernel)",
   "language": "python",
   "name": "python3"
  },
  "language_info": {
   "codemirror_mode": {
    "name": "ipython",
    "version": 3
   },
   "file_extension": ".py",
   "mimetype": "text/x-python",
   "name": "python",
   "nbconvert_exporter": "python",
   "pygments_lexer": "ipython3",
   "version": "3.12.4"
  }
 },
 "nbformat": 4,
 "nbformat_minor": 4
}
